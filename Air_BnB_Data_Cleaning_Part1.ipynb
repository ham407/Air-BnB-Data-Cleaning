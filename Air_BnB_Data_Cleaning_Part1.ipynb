{
  "nbformat": 4,
  "nbformat_minor": 0,
  "metadata": {
    "colab": {
      "provenance": []
    },
    "kernelspec": {
      "name": "python3",
      "display_name": "Python 3"
    },
    "language_info": {
      "name": "python"
    }
  },
  "cells": [
    {
      "cell_type": "markdown",
      "source": [
        "- AirBnB merupakan layanan online yang menyediakan jasa sewa rumah atau apartemen yang tersebar di berbagai penjuru dunia.\n",
        "- Perusahaan ini memiliki data-data properti yang mereka sewakan\n",
        "\n",
        "<img src=\"https://upload.wikimedia.org/wikipedia/commons/thumb/6/69/Airbnb_Logo_B%C3%A9lo.svg/2560px-Airbnb_Logo_B%C3%A9lo.svg.png\" alt=\"Drawing\" width= 300;/>\n",
        "\n",
        "[image source](https://upload.wikimedia.org/wikipedia/commons/thumb/6/69/Airbnb_Logo_B%C3%A9lo.svg/2560px-Airbnb_Logo_B%C3%A9lo.svg.png)\n",
        "\n",
        "Anda diminta untuk melakukan explorasi terhadap data-data tersebut untuk:\n",
        "- Melakukan eksplorasi karakteristik dari datanya.\n",
        "- Melakukan cleaning pada dataset."
      ],
      "metadata": {
        "id": "5-ZfdaQL2E-9"
      }
    },
    {
      "cell_type": "markdown",
      "source": [
        "Data informasi prorperti yang disewakan di air bnb terdiri atas 75 kolom. Detail mengenai informasi dataset dapat diakses dari link berikut: [air bnb dataset](http://insideairbnb.com/get-the-data/)"
      ],
      "metadata": {
        "id": "5A72U_4o2HOp"
      }
    },
    {
      "cell_type": "markdown",
      "source": [
        "Pada pembelajaran kali ini digunakan data detail listing dari **kota Amsterdam**"
      ],
      "metadata": {
        "id": "-ztjl2bE2Iik"
      }
    },
    {
      "cell_type": "markdown",
      "source": [
        "---\n",
        "# **Read data**\n",
        "- Dari file `listings.csv.gz`\n",
        "- Atau link: http://data.insideairbnb.com/the-netherlands/north-holland/amsterdam/2022-09-07/data/listings.csv.gz"
      ],
      "metadata": {
        "id": "iKiHRWtU2MDQ"
      }
    },
    {
      "cell_type": "code",
      "execution_count": 1,
      "metadata": {
        "id": "OIXsN7F-141X"
      },
      "outputs": [],
      "source": [
        "# import library\n",
        "import pandas as pd"
      ]
    },
    {
      "cell_type": "code",
      "source": [
        "# input\n",
        "filename = 'https://raw.githubusercontent.com/ham407/Air-BnB-Data-Cleaning/main/listings.csv'"
      ],
      "metadata": {
        "id": "bUqKLCC32Ont"
      },
      "execution_count": 2,
      "outputs": []
    },
    {
      "cell_type": "code",
      "source": [
        "# Read data\n",
        "listing_gz = pd.read_csv(filename)"
      ],
      "metadata": {
        "id": "qNwcBRg_3-OA"
      },
      "execution_count": 3,
      "outputs": []
    },
    {
      "cell_type": "markdown",
      "source": [
        "Tampilkan 5 data teratas menggunakan `.head(5)`"
      ],
      "metadata": {
        "id": "2iBdmW312ZRn"
      }
    },
    {
      "cell_type": "code",
      "source": [
        "listing_gz.head(5)"
      ],
      "metadata": {
        "colab": {
          "base_uri": "https://localhost:8080/",
          "height": 602
        },
        "id": "GWpDmSJu2W3v",
        "outputId": "eab12938-dea0-430e-ab46-481f74106a5c"
      },
      "execution_count": 4,
      "outputs": [
        {
          "output_type": "execute_result",
          "data": {
            "text/plain": [
              "      id                         listing_url       scrape_id last_scraped  \\\n",
              "0   2818   https://www.airbnb.com/rooms/2818  20220907151523   2022-09-07   \n",
              "1  20168  https://www.airbnb.com/rooms/20168  20220907151523   2022-09-07   \n",
              "2  27886  https://www.airbnb.com/rooms/27886  20220907151523   2022-09-07   \n",
              "3  28871  https://www.airbnb.com/rooms/28871  20220907151523   2022-09-07   \n",
              "4  29051  https://www.airbnb.com/rooms/29051  20220907151523   2022-09-07   \n",
              "\n",
              "            source                                               name  \\\n",
              "0      city scrape           Quiet Garden View Room & Super Fast WiFi   \n",
              "1  previous scrape       Studio with private bathroom in the centre 1   \n",
              "2      city scrape  Romantic, stylish B&B houseboat in canal district   \n",
              "3      city scrape                            Comfortable double room   \n",
              "4      city scrape                            Comfortable single room   \n",
              "\n",
              "                                         description  \\\n",
              "0  Quiet Garden View Room & Super Fast WiFi<br />...   \n",
              "1  17th century Dutch townhouse in the heart of t...   \n",
              "2  Stylish and romantic houseboat on fantastic hi...   \n",
              "3  <b>The space</b><br />In a monumental house ri...   \n",
              "4  This room can also accomodate 2 people.  For a...   \n",
              "\n",
              "                               neighborhood_overview  \\\n",
              "0  Indische Buurt (\"Indies Neighborhood\") is a ne...   \n",
              "1  Located just in between famous central canals....   \n",
              "2         Central, quiet, safe, clean and beautiful.   \n",
              "3       Flower market , Leidseplein , Rembrantsplein   \n",
              "4  the street is quite lively especially on weeke...   \n",
              "\n",
              "                                         picture_url  host_id  ...  \\\n",
              "0  https://a0.muscache.com/pictures/10272854/8dcc...     3159  ...   \n",
              "1  https://a0.muscache.com/pictures/69979628/fd6a...    59484  ...   \n",
              "2  https://a0.muscache.com/pictures/02c2da9d-660e...    97647  ...   \n",
              "3  https://a0.muscache.com/pictures/160889/362340...   124245  ...   \n",
              "4  https://a0.muscache.com/pictures/162009/bd6be2...   124245  ...   \n",
              "\n",
              "  review_scores_communication review_scores_location review_scores_value  \\\n",
              "0                        4.98                   4.69                4.82   \n",
              "1                        4.62                   4.87                4.49   \n",
              "2                        4.92                   4.89                4.79   \n",
              "3                        4.94                   4.96                4.83   \n",
              "4                        4.92                   4.87                4.77   \n",
              "\n",
              "                    license instant_bookable calculated_host_listings_count  \\\n",
              "0  0363 5F3A 5684 6750 D14D                t                              1   \n",
              "1  0363 CBB3 2C10 0C2A 1E29                t                              2   \n",
              "2  0363 974D 4986 7411 88D8                t                              1   \n",
              "3  0363 607B EA74 0BD8 2F6F                f                              2   \n",
              "4  0363 607B EA74 0BD8 2F6F                f                              2   \n",
              "\n",
              "  calculated_host_listings_count_entire_homes  \\\n",
              "0                                           0   \n",
              "1                                           0   \n",
              "2                                           0   \n",
              "3                                           0   \n",
              "4                                           0   \n",
              "\n",
              "  calculated_host_listings_count_private_rooms  \\\n",
              "0                                            1   \n",
              "1                                            2   \n",
              "2                                            1   \n",
              "3                                            2   \n",
              "4                                            2   \n",
              "\n",
              "  calculated_host_listings_count_shared_rooms reviews_per_month  \n",
              "0                                           0              1.86  \n",
              "1                                           0              2.22  \n",
              "2                                           0              1.78  \n",
              "3                                           0              2.92  \n",
              "4                                           0              4.16  \n",
              "\n",
              "[5 rows x 75 columns]"
            ],
            "text/html": [
              "\n",
              "  <div id=\"df-9790a6bd-907d-4e6c-899e-42a68c45a2db\" class=\"colab-df-container\">\n",
              "    <div>\n",
              "<style scoped>\n",
              "    .dataframe tbody tr th:only-of-type {\n",
              "        vertical-align: middle;\n",
              "    }\n",
              "\n",
              "    .dataframe tbody tr th {\n",
              "        vertical-align: top;\n",
              "    }\n",
              "\n",
              "    .dataframe thead th {\n",
              "        text-align: right;\n",
              "    }\n",
              "</style>\n",
              "<table border=\"1\" class=\"dataframe\">\n",
              "  <thead>\n",
              "    <tr style=\"text-align: right;\">\n",
              "      <th></th>\n",
              "      <th>id</th>\n",
              "      <th>listing_url</th>\n",
              "      <th>scrape_id</th>\n",
              "      <th>last_scraped</th>\n",
              "      <th>source</th>\n",
              "      <th>name</th>\n",
              "      <th>description</th>\n",
              "      <th>neighborhood_overview</th>\n",
              "      <th>picture_url</th>\n",
              "      <th>host_id</th>\n",
              "      <th>...</th>\n",
              "      <th>review_scores_communication</th>\n",
              "      <th>review_scores_location</th>\n",
              "      <th>review_scores_value</th>\n",
              "      <th>license</th>\n",
              "      <th>instant_bookable</th>\n",
              "      <th>calculated_host_listings_count</th>\n",
              "      <th>calculated_host_listings_count_entire_homes</th>\n",
              "      <th>calculated_host_listings_count_private_rooms</th>\n",
              "      <th>calculated_host_listings_count_shared_rooms</th>\n",
              "      <th>reviews_per_month</th>\n",
              "    </tr>\n",
              "  </thead>\n",
              "  <tbody>\n",
              "    <tr>\n",
              "      <th>0</th>\n",
              "      <td>2818</td>\n",
              "      <td>https://www.airbnb.com/rooms/2818</td>\n",
              "      <td>20220907151523</td>\n",
              "      <td>2022-09-07</td>\n",
              "      <td>city scrape</td>\n",
              "      <td>Quiet Garden View Room &amp; Super Fast WiFi</td>\n",
              "      <td>Quiet Garden View Room &amp; Super Fast WiFi&lt;br /&gt;...</td>\n",
              "      <td>Indische Buurt (\"Indies Neighborhood\") is a ne...</td>\n",
              "      <td>https://a0.muscache.com/pictures/10272854/8dcc...</td>\n",
              "      <td>3159</td>\n",
              "      <td>...</td>\n",
              "      <td>4.98</td>\n",
              "      <td>4.69</td>\n",
              "      <td>4.82</td>\n",
              "      <td>0363 5F3A 5684 6750 D14D</td>\n",
              "      <td>t</td>\n",
              "      <td>1</td>\n",
              "      <td>0</td>\n",
              "      <td>1</td>\n",
              "      <td>0</td>\n",
              "      <td>1.86</td>\n",
              "    </tr>\n",
              "    <tr>\n",
              "      <th>1</th>\n",
              "      <td>20168</td>\n",
              "      <td>https://www.airbnb.com/rooms/20168</td>\n",
              "      <td>20220907151523</td>\n",
              "      <td>2022-09-07</td>\n",
              "      <td>previous scrape</td>\n",
              "      <td>Studio with private bathroom in the centre 1</td>\n",
              "      <td>17th century Dutch townhouse in the heart of t...</td>\n",
              "      <td>Located just in between famous central canals....</td>\n",
              "      <td>https://a0.muscache.com/pictures/69979628/fd6a...</td>\n",
              "      <td>59484</td>\n",
              "      <td>...</td>\n",
              "      <td>4.62</td>\n",
              "      <td>4.87</td>\n",
              "      <td>4.49</td>\n",
              "      <td>0363 CBB3 2C10 0C2A 1E29</td>\n",
              "      <td>t</td>\n",
              "      <td>2</td>\n",
              "      <td>0</td>\n",
              "      <td>2</td>\n",
              "      <td>0</td>\n",
              "      <td>2.22</td>\n",
              "    </tr>\n",
              "    <tr>\n",
              "      <th>2</th>\n",
              "      <td>27886</td>\n",
              "      <td>https://www.airbnb.com/rooms/27886</td>\n",
              "      <td>20220907151523</td>\n",
              "      <td>2022-09-07</td>\n",
              "      <td>city scrape</td>\n",
              "      <td>Romantic, stylish B&amp;B houseboat in canal district</td>\n",
              "      <td>Stylish and romantic houseboat on fantastic hi...</td>\n",
              "      <td>Central, quiet, safe, clean and beautiful.</td>\n",
              "      <td>https://a0.muscache.com/pictures/02c2da9d-660e...</td>\n",
              "      <td>97647</td>\n",
              "      <td>...</td>\n",
              "      <td>4.92</td>\n",
              "      <td>4.89</td>\n",
              "      <td>4.79</td>\n",
              "      <td>0363 974D 4986 7411 88D8</td>\n",
              "      <td>t</td>\n",
              "      <td>1</td>\n",
              "      <td>0</td>\n",
              "      <td>1</td>\n",
              "      <td>0</td>\n",
              "      <td>1.78</td>\n",
              "    </tr>\n",
              "    <tr>\n",
              "      <th>3</th>\n",
              "      <td>28871</td>\n",
              "      <td>https://www.airbnb.com/rooms/28871</td>\n",
              "      <td>20220907151523</td>\n",
              "      <td>2022-09-07</td>\n",
              "      <td>city scrape</td>\n",
              "      <td>Comfortable double room</td>\n",
              "      <td>&lt;b&gt;The space&lt;/b&gt;&lt;br /&gt;In a monumental house ri...</td>\n",
              "      <td>Flower market , Leidseplein , Rembrantsplein</td>\n",
              "      <td>https://a0.muscache.com/pictures/160889/362340...</td>\n",
              "      <td>124245</td>\n",
              "      <td>...</td>\n",
              "      <td>4.94</td>\n",
              "      <td>4.96</td>\n",
              "      <td>4.83</td>\n",
              "      <td>0363 607B EA74 0BD8 2F6F</td>\n",
              "      <td>f</td>\n",
              "      <td>2</td>\n",
              "      <td>0</td>\n",
              "      <td>2</td>\n",
              "      <td>0</td>\n",
              "      <td>2.92</td>\n",
              "    </tr>\n",
              "    <tr>\n",
              "      <th>4</th>\n",
              "      <td>29051</td>\n",
              "      <td>https://www.airbnb.com/rooms/29051</td>\n",
              "      <td>20220907151523</td>\n",
              "      <td>2022-09-07</td>\n",
              "      <td>city scrape</td>\n",
              "      <td>Comfortable single room</td>\n",
              "      <td>This room can also accomodate 2 people.  For a...</td>\n",
              "      <td>the street is quite lively especially on weeke...</td>\n",
              "      <td>https://a0.muscache.com/pictures/162009/bd6be2...</td>\n",
              "      <td>124245</td>\n",
              "      <td>...</td>\n",
              "      <td>4.92</td>\n",
              "      <td>4.87</td>\n",
              "      <td>4.77</td>\n",
              "      <td>0363 607B EA74 0BD8 2F6F</td>\n",
              "      <td>f</td>\n",
              "      <td>2</td>\n",
              "      <td>0</td>\n",
              "      <td>2</td>\n",
              "      <td>0</td>\n",
              "      <td>4.16</td>\n",
              "    </tr>\n",
              "  </tbody>\n",
              "</table>\n",
              "<p>5 rows × 75 columns</p>\n",
              "</div>\n",
              "    <div class=\"colab-df-buttons\">\n",
              "\n",
              "  <div class=\"colab-df-container\">\n",
              "    <button class=\"colab-df-convert\" onclick=\"convertToInteractive('df-9790a6bd-907d-4e6c-899e-42a68c45a2db')\"\n",
              "            title=\"Convert this dataframe to an interactive table.\"\n",
              "            style=\"display:none;\">\n",
              "\n",
              "  <svg xmlns=\"http://www.w3.org/2000/svg\" height=\"24px\" viewBox=\"0 -960 960 960\">\n",
              "    <path d=\"M120-120v-720h720v720H120Zm60-500h600v-160H180v160Zm220 220h160v-160H400v160Zm0 220h160v-160H400v160ZM180-400h160v-160H180v160Zm440 0h160v-160H620v160ZM180-180h160v-160H180v160Zm440 0h160v-160H620v160Z\"/>\n",
              "  </svg>\n",
              "    </button>\n",
              "\n",
              "  <style>\n",
              "    .colab-df-container {\n",
              "      display:flex;\n",
              "      gap: 12px;\n",
              "    }\n",
              "\n",
              "    .colab-df-convert {\n",
              "      background-color: #E8F0FE;\n",
              "      border: none;\n",
              "      border-radius: 50%;\n",
              "      cursor: pointer;\n",
              "      display: none;\n",
              "      fill: #1967D2;\n",
              "      height: 32px;\n",
              "      padding: 0 0 0 0;\n",
              "      width: 32px;\n",
              "    }\n",
              "\n",
              "    .colab-df-convert:hover {\n",
              "      background-color: #E2EBFA;\n",
              "      box-shadow: 0px 1px 2px rgba(60, 64, 67, 0.3), 0px 1px 3px 1px rgba(60, 64, 67, 0.15);\n",
              "      fill: #174EA6;\n",
              "    }\n",
              "\n",
              "    .colab-df-buttons div {\n",
              "      margin-bottom: 4px;\n",
              "    }\n",
              "\n",
              "    [theme=dark] .colab-df-convert {\n",
              "      background-color: #3B4455;\n",
              "      fill: #D2E3FC;\n",
              "    }\n",
              "\n",
              "    [theme=dark] .colab-df-convert:hover {\n",
              "      background-color: #434B5C;\n",
              "      box-shadow: 0px 1px 3px 1px rgba(0, 0, 0, 0.15);\n",
              "      filter: drop-shadow(0px 1px 2px rgba(0, 0, 0, 0.3));\n",
              "      fill: #FFFFFF;\n",
              "    }\n",
              "  </style>\n",
              "\n",
              "    <script>\n",
              "      const buttonEl =\n",
              "        document.querySelector('#df-9790a6bd-907d-4e6c-899e-42a68c45a2db button.colab-df-convert');\n",
              "      buttonEl.style.display =\n",
              "        google.colab.kernel.accessAllowed ? 'block' : 'none';\n",
              "\n",
              "      async function convertToInteractive(key) {\n",
              "        const element = document.querySelector('#df-9790a6bd-907d-4e6c-899e-42a68c45a2db');\n",
              "        const dataTable =\n",
              "          await google.colab.kernel.invokeFunction('convertToInteractive',\n",
              "                                                    [key], {});\n",
              "        if (!dataTable) return;\n",
              "\n",
              "        const docLinkHtml = 'Like what you see? Visit the ' +\n",
              "          '<a target=\"_blank\" href=https://colab.research.google.com/notebooks/data_table.ipynb>data table notebook</a>'\n",
              "          + ' to learn more about interactive tables.';\n",
              "        element.innerHTML = '';\n",
              "        dataTable['output_type'] = 'display_data';\n",
              "        await google.colab.output.renderOutput(dataTable, element);\n",
              "        const docLink = document.createElement('div');\n",
              "        docLink.innerHTML = docLinkHtml;\n",
              "        element.appendChild(docLink);\n",
              "      }\n",
              "    </script>\n",
              "  </div>\n",
              "\n",
              "\n",
              "<div id=\"df-2fddfc1e-1e7b-4967-9c6f-b3c1b2b5c93c\">\n",
              "  <button class=\"colab-df-quickchart\" onclick=\"quickchart('df-2fddfc1e-1e7b-4967-9c6f-b3c1b2b5c93c')\"\n",
              "            title=\"Suggest charts\"\n",
              "            style=\"display:none;\">\n",
              "\n",
              "<svg xmlns=\"http://www.w3.org/2000/svg\" height=\"24px\"viewBox=\"0 0 24 24\"\n",
              "     width=\"24px\">\n",
              "    <g>\n",
              "        <path d=\"M19 3H5c-1.1 0-2 .9-2 2v14c0 1.1.9 2 2 2h14c1.1 0 2-.9 2-2V5c0-1.1-.9-2-2-2zM9 17H7v-7h2v7zm4 0h-2V7h2v10zm4 0h-2v-4h2v4z\"/>\n",
              "    </g>\n",
              "</svg>\n",
              "  </button>\n",
              "\n",
              "<style>\n",
              "  .colab-df-quickchart {\n",
              "      --bg-color: #E8F0FE;\n",
              "      --fill-color: #1967D2;\n",
              "      --hover-bg-color: #E2EBFA;\n",
              "      --hover-fill-color: #174EA6;\n",
              "      --disabled-fill-color: #AAA;\n",
              "      --disabled-bg-color: #DDD;\n",
              "  }\n",
              "\n",
              "  [theme=dark] .colab-df-quickchart {\n",
              "      --bg-color: #3B4455;\n",
              "      --fill-color: #D2E3FC;\n",
              "      --hover-bg-color: #434B5C;\n",
              "      --hover-fill-color: #FFFFFF;\n",
              "      --disabled-bg-color: #3B4455;\n",
              "      --disabled-fill-color: #666;\n",
              "  }\n",
              "\n",
              "  .colab-df-quickchart {\n",
              "    background-color: var(--bg-color);\n",
              "    border: none;\n",
              "    border-radius: 50%;\n",
              "    cursor: pointer;\n",
              "    display: none;\n",
              "    fill: var(--fill-color);\n",
              "    height: 32px;\n",
              "    padding: 0;\n",
              "    width: 32px;\n",
              "  }\n",
              "\n",
              "  .colab-df-quickchart:hover {\n",
              "    background-color: var(--hover-bg-color);\n",
              "    box-shadow: 0 1px 2px rgba(60, 64, 67, 0.3), 0 1px 3px 1px rgba(60, 64, 67, 0.15);\n",
              "    fill: var(--button-hover-fill-color);\n",
              "  }\n",
              "\n",
              "  .colab-df-quickchart-complete:disabled,\n",
              "  .colab-df-quickchart-complete:disabled:hover {\n",
              "    background-color: var(--disabled-bg-color);\n",
              "    fill: var(--disabled-fill-color);\n",
              "    box-shadow: none;\n",
              "  }\n",
              "\n",
              "  .colab-df-spinner {\n",
              "    border: 2px solid var(--fill-color);\n",
              "    border-color: transparent;\n",
              "    border-bottom-color: var(--fill-color);\n",
              "    animation:\n",
              "      spin 1s steps(1) infinite;\n",
              "  }\n",
              "\n",
              "  @keyframes spin {\n",
              "    0% {\n",
              "      border-color: transparent;\n",
              "      border-bottom-color: var(--fill-color);\n",
              "      border-left-color: var(--fill-color);\n",
              "    }\n",
              "    20% {\n",
              "      border-color: transparent;\n",
              "      border-left-color: var(--fill-color);\n",
              "      border-top-color: var(--fill-color);\n",
              "    }\n",
              "    30% {\n",
              "      border-color: transparent;\n",
              "      border-left-color: var(--fill-color);\n",
              "      border-top-color: var(--fill-color);\n",
              "      border-right-color: var(--fill-color);\n",
              "    }\n",
              "    40% {\n",
              "      border-color: transparent;\n",
              "      border-right-color: var(--fill-color);\n",
              "      border-top-color: var(--fill-color);\n",
              "    }\n",
              "    60% {\n",
              "      border-color: transparent;\n",
              "      border-right-color: var(--fill-color);\n",
              "    }\n",
              "    80% {\n",
              "      border-color: transparent;\n",
              "      border-right-color: var(--fill-color);\n",
              "      border-bottom-color: var(--fill-color);\n",
              "    }\n",
              "    90% {\n",
              "      border-color: transparent;\n",
              "      border-bottom-color: var(--fill-color);\n",
              "    }\n",
              "  }\n",
              "</style>\n",
              "\n",
              "  <script>\n",
              "    async function quickchart(key) {\n",
              "      const quickchartButtonEl =\n",
              "        document.querySelector('#' + key + ' button');\n",
              "      quickchartButtonEl.disabled = true;  // To prevent multiple clicks.\n",
              "      quickchartButtonEl.classList.add('colab-df-spinner');\n",
              "      try {\n",
              "        const charts = await google.colab.kernel.invokeFunction(\n",
              "            'suggestCharts', [key], {});\n",
              "      } catch (error) {\n",
              "        console.error('Error during call to suggestCharts:', error);\n",
              "      }\n",
              "      quickchartButtonEl.classList.remove('colab-df-spinner');\n",
              "      quickchartButtonEl.classList.add('colab-df-quickchart-complete');\n",
              "    }\n",
              "    (() => {\n",
              "      let quickchartButtonEl =\n",
              "        document.querySelector('#df-2fddfc1e-1e7b-4967-9c6f-b3c1b2b5c93c button');\n",
              "      quickchartButtonEl.style.display =\n",
              "        google.colab.kernel.accessAllowed ? 'block' : 'none';\n",
              "    })();\n",
              "  </script>\n",
              "</div>\n",
              "    </div>\n",
              "  </div>\n"
            ],
            "application/vnd.google.colaboratory.intrinsic+json": {
              "type": "dataframe",
              "variable_name": "listing_gz"
            }
          },
          "metadata": {},
          "execution_count": 4
        }
      ]
    },
    {
      "cell_type": "markdown",
      "source": [
        "---\n",
        "## **Tampilkan Summary Data**"
      ],
      "metadata": {
        "id": "xfeTiFk04skg"
      }
    },
    {
      "cell_type": "code",
      "source": [
        "# Ekstrak ukuran data\n",
        "nrows, ncols = listing_gz.shape\n",
        "\n",
        "print(f'Data Input : ({nrows}, {ncols}) - (#jumlah observasi, #jumlah fitur)')"
      ],
      "metadata": {
        "colab": {
          "base_uri": "https://localhost:8080/"
        },
        "id": "0-ysdo8l4Aw8",
        "outputId": "80a42aaa-fcef-4443-e313-381c24bee71f"
      },
      "execution_count": 5,
      "outputs": [
        {
          "output_type": "stream",
          "name": "stdout",
          "text": [
            "Data Input : (6893, 75) - (#jumlah observasi, #jumlah fitur)\n"
          ]
        }
      ]
    },
    {
      "cell_type": "code",
      "source": [
        "# Mengubah setting display rows maksimum dari pandas dataframe\n",
        "pd.set_option('display.max_rows', len(listing_gz.columns))"
      ],
      "metadata": {
        "id": "-_Vhuqih5ApL"
      },
      "execution_count": 6,
      "outputs": []
    },
    {
      "cell_type": "code",
      "source": [
        "# Cek informasi umum dari data\n",
        "listing_gz.info()"
      ],
      "metadata": {
        "colab": {
          "base_uri": "https://localhost:8080/"
        },
        "id": "xJ0we64n5LhY",
        "outputId": "f3768e3a-eb02-447d-fa4b-5489c4bead9c"
      },
      "execution_count": 7,
      "outputs": [
        {
          "output_type": "stream",
          "name": "stdout",
          "text": [
            "<class 'pandas.core.frame.DataFrame'>\n",
            "RangeIndex: 6893 entries, 0 to 6892\n",
            "Data columns (total 75 columns):\n",
            " #   Column                                        Non-Null Count  Dtype  \n",
            "---  ------                                        --------------  -----  \n",
            " 0   id                                            6893 non-null   int64  \n",
            " 1   listing_url                                   6893 non-null   object \n",
            " 2   scrape_id                                     6893 non-null   int64  \n",
            " 3   last_scraped                                  6893 non-null   object \n",
            " 4   source                                        6893 non-null   object \n",
            " 5   name                                          6893 non-null   object \n",
            " 6   description                                   6877 non-null   object \n",
            " 7   neighborhood_overview                         4628 non-null   object \n",
            " 8   picture_url                                   6893 non-null   object \n",
            " 9   host_id                                       6893 non-null   int64  \n",
            " 10  host_url                                      6893 non-null   object \n",
            " 11  host_name                                     6893 non-null   object \n",
            " 12  host_since                                    6893 non-null   object \n",
            " 13  host_location                                 6122 non-null   object \n",
            " 14  host_about                                    4132 non-null   object \n",
            " 15  host_response_time                            5236 non-null   object \n",
            " 16  host_response_rate                            5236 non-null   object \n",
            " 17  host_acceptance_rate                          6031 non-null   object \n",
            " 18  host_is_superhost                             6885 non-null   object \n",
            " 19  host_thumbnail_url                            6893 non-null   object \n",
            " 20  host_picture_url                              6893 non-null   object \n",
            " 21  host_neighbourhood                            3096 non-null   object \n",
            " 22  host_listings_count                           6893 non-null   int64  \n",
            " 23  host_total_listings_count                     6893 non-null   int64  \n",
            " 24  host_verifications                            6893 non-null   object \n",
            " 25  host_has_profile_pic                          6893 non-null   object \n",
            " 26  host_identity_verified                        6893 non-null   object \n",
            " 27  neighbourhood                                 4628 non-null   object \n",
            " 28  neighbourhood_cleansed                        6893 non-null   object \n",
            " 29  neighbourhood_group_cleansed                  0 non-null      float64\n",
            " 30  latitude                                      6893 non-null   float64\n",
            " 31  longitude                                     6893 non-null   float64\n",
            " 32  property_type                                 6893 non-null   object \n",
            " 33  room_type                                     6893 non-null   object \n",
            " 34  accommodates                                  6893 non-null   int64  \n",
            " 35  bathrooms                                     0 non-null      float64\n",
            " 36  bathrooms_text                                6878 non-null   object \n",
            " 37  bedrooms                                      6578 non-null   float64\n",
            " 38  beds                                          6792 non-null   float64\n",
            " 39  amenities                                     6893 non-null   object \n",
            " 40  price                                         6893 non-null   object \n",
            " 41  minimum_nights                                6893 non-null   int64  \n",
            " 42  maximum_nights                                6893 non-null   int64  \n",
            " 43  minimum_minimum_nights                        6891 non-null   float64\n",
            " 44  maximum_minimum_nights                        6891 non-null   float64\n",
            " 45  minimum_maximum_nights                        6891 non-null   float64\n",
            " 46  maximum_maximum_nights                        6891 non-null   float64\n",
            " 47  minimum_nights_avg_ntm                        6891 non-null   float64\n",
            " 48  maximum_nights_avg_ntm                        6891 non-null   float64\n",
            " 49  calendar_updated                              0 non-null      float64\n",
            " 50  has_availability                              6893 non-null   object \n",
            " 51  availability_30                               6893 non-null   int64  \n",
            " 52  availability_60                               6893 non-null   int64  \n",
            " 53  availability_90                               6893 non-null   int64  \n",
            " 54  availability_365                              6893 non-null   int64  \n",
            " 55  calendar_last_scraped                         6893 non-null   object \n",
            " 56  number_of_reviews                             6893 non-null   int64  \n",
            " 57  number_of_reviews_ltm                         6893 non-null   int64  \n",
            " 58  number_of_reviews_l30d                        6893 non-null   int64  \n",
            " 59  first_review                                  6247 non-null   object \n",
            " 60  last_review                                   6247 non-null   object \n",
            " 61  review_scores_rating                          6247 non-null   float64\n",
            " 62  review_scores_accuracy                        6242 non-null   float64\n",
            " 63  review_scores_cleanliness                     6242 non-null   float64\n",
            " 64  review_scores_checkin                         6242 non-null   float64\n",
            " 65  review_scores_communication                   6242 non-null   float64\n",
            " 66  review_scores_location                        6242 non-null   float64\n",
            " 67  review_scores_value                           6242 non-null   float64\n",
            " 68  license                                       6449 non-null   object \n",
            " 69  instant_bookable                              6893 non-null   object \n",
            " 70  calculated_host_listings_count                6893 non-null   int64  \n",
            " 71  calculated_host_listings_count_entire_homes   6893 non-null   int64  \n",
            " 72  calculated_host_listings_count_private_rooms  6893 non-null   int64  \n",
            " 73  calculated_host_listings_count_shared_rooms   6893 non-null   int64  \n",
            " 74  reviews_per_month                             6247 non-null   float64\n",
            "dtypes: float64(21), int64(19), object(35)\n",
            "memory usage: 3.9+ MB\n"
          ]
        }
      ]
    },
    {
      "cell_type": "markdown",
      "source": [
        "*Key Takeaways*\n",
        "- Ada 6,893 observasi\n",
        "- Data memiliki 75 fitur\n",
        "- Tipe-tipe fitur bervariasi, antara lain: numerik, kategorik, teks, dan timeseries"
      ],
      "metadata": {
        "id": "djMkojct5T8u"
      }
    },
    {
      "cell_type": "markdown",
      "source": [
        "---\n",
        "##**Cek data duplikat**"
      ],
      "metadata": {
        "id": "6xTu7JCF5b_6"
      }
    },
    {
      "cell_type": "code",
      "source": [
        "listing_gz.duplicated().any()"
      ],
      "metadata": {
        "colab": {
          "base_uri": "https://localhost:8080/"
        },
        "id": "c2WBH3M35PGZ",
        "outputId": "72cb9000-623a-479a-9d12-7ed52695c1d1"
      },
      "execution_count": 8,
      "outputs": [
        {
          "output_type": "execute_result",
          "data": {
            "text/plain": [
              "False"
            ]
          },
          "metadata": {},
          "execution_count": 8
        }
      ]
    },
    {
      "cell_type": "markdown",
      "source": [
        "False berarti tidak terdapat data duplikat di dalam datasets"
      ],
      "metadata": {
        "id": "5Is052bD5i3V"
      }
    },
    {
      "cell_type": "markdown",
      "source": [
        "---\n",
        "## **Cek missing value**"
      ],
      "metadata": {
        "id": "oTWUcNuL5nN7"
      }
    },
    {
      "cell_type": "code",
      "source": [
        "listing_gz.isna().any().sum()"
      ],
      "metadata": {
        "colab": {
          "base_uri": "https://localhost:8080/"
        },
        "id": "jmjZNQSo5hqw",
        "outputId": "44b376ab-00d6-427e-ed1f-d51a48af76c5"
      },
      "execution_count": 9,
      "outputs": [
        {
          "output_type": "execute_result",
          "data": {
            "text/plain": [
              "33"
            ]
          },
          "metadata": {},
          "execution_count": 9
        }
      ]
    },
    {
      "cell_type": "markdown",
      "source": [
        "ada 33 kolom yang punya missing value"
      ],
      "metadata": {
        "id": "5MbtSSzQ5uhc"
      }
    },
    {
      "cell_type": "markdown",
      "source": [
        "**Tampilkan kolom yang punya missing value**"
      ],
      "metadata": {
        "id": "_iNr2GNG5z6n"
      }
    },
    {
      "cell_type": "code",
      "source": [
        "# 1. buat tempat menyimpan kolom missing value\n",
        "col_with_missing_value = []"
      ],
      "metadata": {
        "id": "wJ5agUeI5ram"
      },
      "execution_count": 10,
      "outputs": []
    },
    {
      "cell_type": "code",
      "source": [
        "# 2. Lakukan perulangan setiap kolom\n",
        "for col in listing_gz.columns:\n",
        "\n",
        "  # 3. jika nilai missing value didalam kolom tersebut,\n",
        "  # masukkan col ke dalam col_with_missing_value\n",
        "  if listing_gz[col].isna().any() == True:\n",
        "    col_with_missing_value.append(col)\n"
      ],
      "metadata": {
        "id": "-Se4qbgB5952"
      },
      "execution_count": 11,
      "outputs": []
    },
    {
      "cell_type": "code",
      "source": [
        "# 4. Tampilkan column dengan missing value\n",
        "col_with_missing_value"
      ],
      "metadata": {
        "colab": {
          "base_uri": "https://localhost:8080/"
        },
        "id": "hZIzVurV6Ue2",
        "outputId": "ff27f269-951d-44de-f2b3-dca89ab825c4"
      },
      "execution_count": 12,
      "outputs": [
        {
          "output_type": "execute_result",
          "data": {
            "text/plain": [
              "['description',\n",
              " 'neighborhood_overview',\n",
              " 'host_location',\n",
              " 'host_about',\n",
              " 'host_response_time',\n",
              " 'host_response_rate',\n",
              " 'host_acceptance_rate',\n",
              " 'host_is_superhost',\n",
              " 'host_neighbourhood',\n",
              " 'neighbourhood',\n",
              " 'neighbourhood_group_cleansed',\n",
              " 'bathrooms',\n",
              " 'bathrooms_text',\n",
              " 'bedrooms',\n",
              " 'beds',\n",
              " 'minimum_minimum_nights',\n",
              " 'maximum_minimum_nights',\n",
              " 'minimum_maximum_nights',\n",
              " 'maximum_maximum_nights',\n",
              " 'minimum_nights_avg_ntm',\n",
              " 'maximum_nights_avg_ntm',\n",
              " 'calendar_updated',\n",
              " 'first_review',\n",
              " 'last_review',\n",
              " 'review_scores_rating',\n",
              " 'review_scores_accuracy',\n",
              " 'review_scores_cleanliness',\n",
              " 'review_scores_checkin',\n",
              " 'review_scores_communication',\n",
              " 'review_scores_location',\n",
              " 'review_scores_value',\n",
              " 'license',\n",
              " 'reviews_per_month']"
            ]
          },
          "metadata": {},
          "execution_count": 12
        }
      ]
    },
    {
      "cell_type": "markdown",
      "source": [
        "*Key Takeaways*\n",
        "- Ada 33 dari 75 kolom yang memiliki missing value\n",
        "- Untuk analisa data, missing value ini harus dibersihkan agar tidak mengganggu proses analisa.\n",
        "  - Bisa di-drop\n",
        "  - Atau di-imputasi\n",
        "- Kita lakukan pembersihan di notebook selanjutnya"
      ],
      "metadata": {
        "id": "_V8L9JTB6bpZ"
      }
    },
    {
      "cell_type": "code",
      "source": [],
      "metadata": {
        "id": "BiHZ33jo6YYA"
      },
      "execution_count": 12,
      "outputs": []
    },
    {
      "cell_type": "markdown",
      "source": [
        "# **Subplots**"
      ],
      "metadata": {
        "id": "tWqKA42Y6wTi"
      }
    },
    {
      "cell_type": "markdown",
      "source": [
        "- Dalam melakukan eksplorasi mengenai karakteristik data, biasanya digunakan bantuan visualisasi untuk menemukan pattern yang ada pada data.\n",
        "- Untuk menunjang proses eksplorasi dengan menggunakan visualisasi pada python, dapat digunakan fitur subplots dari library matplotlib.\n",
        "- Subplots memungkinkan kita untuk membuat beberapa plot sekaligus dalam satu figure yang sama.\n",
        "- Pada materi kali ini akan dipelajari:\n",
        "    1. Basic Subplots\n",
        "    2. High Dimensionality Plot"
      ],
      "metadata": {
        "id": "-cvozzKR6048"
      }
    },
    {
      "cell_type": "markdown",
      "source": [
        "## **1. Basic Subplots**"
      ],
      "metadata": {
        "id": "fYfVPLen6_Nx"
      }
    },
    {
      "cell_type": "markdown",
      "source": [
        "Anda diminta untuk melakukan eksplorasi pada data properti yang ada di Air BnB. \\\n",
        "Objective:\n",
        "- Distribusi **harga sewa** property di Air BnB -> Histogram\n",
        "- Rata-rata **harga sewa** berdasarkan tipe ruangan -> Barplot\n",
        "- Relationship antara **total review** dan **review per bulan** -> Scatterplot\n",
        "- Rata-rata **Review per month** untuk tiap tipe ruangan -> Linechart/Barplot\n",
        "\n",
        "Add:\n",
        "- Eksplorasi akan dilakukan menggunakan bantuan visualisasi.\n",
        "- Untuk memudahkan dalam analisa hasil visualisasi, visualisasi akan tampilkan dalam satu gambar yang sama"
      ],
      "metadata": {
        "id": "yraErN0d7AX6"
      }
    },
    {
      "cell_type": "markdown",
      "source": [
        "Untuk membuat struktur plot dengan dimensi yang banyak, terlebih dahulu akan dipelajari struktur dasar dari visualisasi menggunakan matplotlib."
      ],
      "metadata": {
        "id": "2109dR4D7Cxx"
      }
    },
    {
      "cell_type": "code",
      "source": [
        "# ignore warnings\n",
        "import warnings\n",
        "warnings.filterwarnings('ignore')"
      ],
      "metadata": {
        "id": "LBZA_mtq7zeE"
      },
      "execution_count": 13,
      "outputs": []
    },
    {
      "cell_type": "markdown",
      "source": [
        "---\n",
        "**Read data**\n",
        "- Dari file `listings.csv.gz`\n",
        "- Atau link: http://data.insideairbnb.com/the-netherlands/north-holland/amsterdam/2022-09-07/data/listings.csv.gz"
      ],
      "metadata": {
        "id": "zyToMwsk7ykS"
      }
    },
    {
      "cell_type": "code",
      "source": [
        "# import library\n",
        "import pandas as pd\n",
        "import numpy as np"
      ],
      "metadata": {
        "id": "iSiULppP6yd1"
      },
      "execution_count": 14,
      "outputs": []
    },
    {
      "cell_type": "code",
      "source": [
        "# input\n",
        "filename = 'https://raw.githubusercontent.com/ham407/Air-BnB-Data-Cleaning/main/listings.csv'\n",
        "\n",
        "# Read data\n",
        "listings = pd.read_csv(filename)"
      ],
      "metadata": {
        "id": "GP7S_OD574-F"
      },
      "execution_count": 15,
      "outputs": []
    },
    {
      "cell_type": "code",
      "source": [
        "# Menampilkan 5 data teratas dari listings\n",
        "listings.head()"
      ],
      "metadata": {
        "colab": {
          "base_uri": "https://localhost:8080/",
          "height": 602
        },
        "id": "HGXEZfn979gZ",
        "outputId": "6f027876-3ffb-4089-e64e-07419375ac07"
      },
      "execution_count": 16,
      "outputs": [
        {
          "output_type": "execute_result",
          "data": {
            "text/plain": [
              "      id                         listing_url       scrape_id last_scraped  \\\n",
              "0   2818   https://www.airbnb.com/rooms/2818  20220907151523   2022-09-07   \n",
              "1  20168  https://www.airbnb.com/rooms/20168  20220907151523   2022-09-07   \n",
              "2  27886  https://www.airbnb.com/rooms/27886  20220907151523   2022-09-07   \n",
              "3  28871  https://www.airbnb.com/rooms/28871  20220907151523   2022-09-07   \n",
              "4  29051  https://www.airbnb.com/rooms/29051  20220907151523   2022-09-07   \n",
              "\n",
              "            source                                               name  \\\n",
              "0      city scrape           Quiet Garden View Room & Super Fast WiFi   \n",
              "1  previous scrape       Studio with private bathroom in the centre 1   \n",
              "2      city scrape  Romantic, stylish B&B houseboat in canal district   \n",
              "3      city scrape                            Comfortable double room   \n",
              "4      city scrape                            Comfortable single room   \n",
              "\n",
              "                                         description  \\\n",
              "0  Quiet Garden View Room & Super Fast WiFi<br />...   \n",
              "1  17th century Dutch townhouse in the heart of t...   \n",
              "2  Stylish and romantic houseboat on fantastic hi...   \n",
              "3  <b>The space</b><br />In a monumental house ri...   \n",
              "4  This room can also accomodate 2 people.  For a...   \n",
              "\n",
              "                               neighborhood_overview  \\\n",
              "0  Indische Buurt (\"Indies Neighborhood\") is a ne...   \n",
              "1  Located just in between famous central canals....   \n",
              "2         Central, quiet, safe, clean and beautiful.   \n",
              "3       Flower market , Leidseplein , Rembrantsplein   \n",
              "4  the street is quite lively especially on weeke...   \n",
              "\n",
              "                                         picture_url  host_id  ...  \\\n",
              "0  https://a0.muscache.com/pictures/10272854/8dcc...     3159  ...   \n",
              "1  https://a0.muscache.com/pictures/69979628/fd6a...    59484  ...   \n",
              "2  https://a0.muscache.com/pictures/02c2da9d-660e...    97647  ...   \n",
              "3  https://a0.muscache.com/pictures/160889/362340...   124245  ...   \n",
              "4  https://a0.muscache.com/pictures/162009/bd6be2...   124245  ...   \n",
              "\n",
              "  review_scores_communication review_scores_location review_scores_value  \\\n",
              "0                        4.98                   4.69                4.82   \n",
              "1                        4.62                   4.87                4.49   \n",
              "2                        4.92                   4.89                4.79   \n",
              "3                        4.94                   4.96                4.83   \n",
              "4                        4.92                   4.87                4.77   \n",
              "\n",
              "                    license instant_bookable calculated_host_listings_count  \\\n",
              "0  0363 5F3A 5684 6750 D14D                t                              1   \n",
              "1  0363 CBB3 2C10 0C2A 1E29                t                              2   \n",
              "2  0363 974D 4986 7411 88D8                t                              1   \n",
              "3  0363 607B EA74 0BD8 2F6F                f                              2   \n",
              "4  0363 607B EA74 0BD8 2F6F                f                              2   \n",
              "\n",
              "  calculated_host_listings_count_entire_homes  \\\n",
              "0                                           0   \n",
              "1                                           0   \n",
              "2                                           0   \n",
              "3                                           0   \n",
              "4                                           0   \n",
              "\n",
              "  calculated_host_listings_count_private_rooms  \\\n",
              "0                                            1   \n",
              "1                                            2   \n",
              "2                                            1   \n",
              "3                                            2   \n",
              "4                                            2   \n",
              "\n",
              "  calculated_host_listings_count_shared_rooms reviews_per_month  \n",
              "0                                           0              1.86  \n",
              "1                                           0              2.22  \n",
              "2                                           0              1.78  \n",
              "3                                           0              2.92  \n",
              "4                                           0              4.16  \n",
              "\n",
              "[5 rows x 75 columns]"
            ],
            "text/html": [
              "\n",
              "  <div id=\"df-7dd058b0-a01f-4825-8666-90980e037abf\" class=\"colab-df-container\">\n",
              "    <div>\n",
              "<style scoped>\n",
              "    .dataframe tbody tr th:only-of-type {\n",
              "        vertical-align: middle;\n",
              "    }\n",
              "\n",
              "    .dataframe tbody tr th {\n",
              "        vertical-align: top;\n",
              "    }\n",
              "\n",
              "    .dataframe thead th {\n",
              "        text-align: right;\n",
              "    }\n",
              "</style>\n",
              "<table border=\"1\" class=\"dataframe\">\n",
              "  <thead>\n",
              "    <tr style=\"text-align: right;\">\n",
              "      <th></th>\n",
              "      <th>id</th>\n",
              "      <th>listing_url</th>\n",
              "      <th>scrape_id</th>\n",
              "      <th>last_scraped</th>\n",
              "      <th>source</th>\n",
              "      <th>name</th>\n",
              "      <th>description</th>\n",
              "      <th>neighborhood_overview</th>\n",
              "      <th>picture_url</th>\n",
              "      <th>host_id</th>\n",
              "      <th>...</th>\n",
              "      <th>review_scores_communication</th>\n",
              "      <th>review_scores_location</th>\n",
              "      <th>review_scores_value</th>\n",
              "      <th>license</th>\n",
              "      <th>instant_bookable</th>\n",
              "      <th>calculated_host_listings_count</th>\n",
              "      <th>calculated_host_listings_count_entire_homes</th>\n",
              "      <th>calculated_host_listings_count_private_rooms</th>\n",
              "      <th>calculated_host_listings_count_shared_rooms</th>\n",
              "      <th>reviews_per_month</th>\n",
              "    </tr>\n",
              "  </thead>\n",
              "  <tbody>\n",
              "    <tr>\n",
              "      <th>0</th>\n",
              "      <td>2818</td>\n",
              "      <td>https://www.airbnb.com/rooms/2818</td>\n",
              "      <td>20220907151523</td>\n",
              "      <td>2022-09-07</td>\n",
              "      <td>city scrape</td>\n",
              "      <td>Quiet Garden View Room &amp; Super Fast WiFi</td>\n",
              "      <td>Quiet Garden View Room &amp; Super Fast WiFi&lt;br /&gt;...</td>\n",
              "      <td>Indische Buurt (\"Indies Neighborhood\") is a ne...</td>\n",
              "      <td>https://a0.muscache.com/pictures/10272854/8dcc...</td>\n",
              "      <td>3159</td>\n",
              "      <td>...</td>\n",
              "      <td>4.98</td>\n",
              "      <td>4.69</td>\n",
              "      <td>4.82</td>\n",
              "      <td>0363 5F3A 5684 6750 D14D</td>\n",
              "      <td>t</td>\n",
              "      <td>1</td>\n",
              "      <td>0</td>\n",
              "      <td>1</td>\n",
              "      <td>0</td>\n",
              "      <td>1.86</td>\n",
              "    </tr>\n",
              "    <tr>\n",
              "      <th>1</th>\n",
              "      <td>20168</td>\n",
              "      <td>https://www.airbnb.com/rooms/20168</td>\n",
              "      <td>20220907151523</td>\n",
              "      <td>2022-09-07</td>\n",
              "      <td>previous scrape</td>\n",
              "      <td>Studio with private bathroom in the centre 1</td>\n",
              "      <td>17th century Dutch townhouse in the heart of t...</td>\n",
              "      <td>Located just in between famous central canals....</td>\n",
              "      <td>https://a0.muscache.com/pictures/69979628/fd6a...</td>\n",
              "      <td>59484</td>\n",
              "      <td>...</td>\n",
              "      <td>4.62</td>\n",
              "      <td>4.87</td>\n",
              "      <td>4.49</td>\n",
              "      <td>0363 CBB3 2C10 0C2A 1E29</td>\n",
              "      <td>t</td>\n",
              "      <td>2</td>\n",
              "      <td>0</td>\n",
              "      <td>2</td>\n",
              "      <td>0</td>\n",
              "      <td>2.22</td>\n",
              "    </tr>\n",
              "    <tr>\n",
              "      <th>2</th>\n",
              "      <td>27886</td>\n",
              "      <td>https://www.airbnb.com/rooms/27886</td>\n",
              "      <td>20220907151523</td>\n",
              "      <td>2022-09-07</td>\n",
              "      <td>city scrape</td>\n",
              "      <td>Romantic, stylish B&amp;B houseboat in canal district</td>\n",
              "      <td>Stylish and romantic houseboat on fantastic hi...</td>\n",
              "      <td>Central, quiet, safe, clean and beautiful.</td>\n",
              "      <td>https://a0.muscache.com/pictures/02c2da9d-660e...</td>\n",
              "      <td>97647</td>\n",
              "      <td>...</td>\n",
              "      <td>4.92</td>\n",
              "      <td>4.89</td>\n",
              "      <td>4.79</td>\n",
              "      <td>0363 974D 4986 7411 88D8</td>\n",
              "      <td>t</td>\n",
              "      <td>1</td>\n",
              "      <td>0</td>\n",
              "      <td>1</td>\n",
              "      <td>0</td>\n",
              "      <td>1.78</td>\n",
              "    </tr>\n",
              "    <tr>\n",
              "      <th>3</th>\n",
              "      <td>28871</td>\n",
              "      <td>https://www.airbnb.com/rooms/28871</td>\n",
              "      <td>20220907151523</td>\n",
              "      <td>2022-09-07</td>\n",
              "      <td>city scrape</td>\n",
              "      <td>Comfortable double room</td>\n",
              "      <td>&lt;b&gt;The space&lt;/b&gt;&lt;br /&gt;In a monumental house ri...</td>\n",
              "      <td>Flower market , Leidseplein , Rembrantsplein</td>\n",
              "      <td>https://a0.muscache.com/pictures/160889/362340...</td>\n",
              "      <td>124245</td>\n",
              "      <td>...</td>\n",
              "      <td>4.94</td>\n",
              "      <td>4.96</td>\n",
              "      <td>4.83</td>\n",
              "      <td>0363 607B EA74 0BD8 2F6F</td>\n",
              "      <td>f</td>\n",
              "      <td>2</td>\n",
              "      <td>0</td>\n",
              "      <td>2</td>\n",
              "      <td>0</td>\n",
              "      <td>2.92</td>\n",
              "    </tr>\n",
              "    <tr>\n",
              "      <th>4</th>\n",
              "      <td>29051</td>\n",
              "      <td>https://www.airbnb.com/rooms/29051</td>\n",
              "      <td>20220907151523</td>\n",
              "      <td>2022-09-07</td>\n",
              "      <td>city scrape</td>\n",
              "      <td>Comfortable single room</td>\n",
              "      <td>This room can also accomodate 2 people.  For a...</td>\n",
              "      <td>the street is quite lively especially on weeke...</td>\n",
              "      <td>https://a0.muscache.com/pictures/162009/bd6be2...</td>\n",
              "      <td>124245</td>\n",
              "      <td>...</td>\n",
              "      <td>4.92</td>\n",
              "      <td>4.87</td>\n",
              "      <td>4.77</td>\n",
              "      <td>0363 607B EA74 0BD8 2F6F</td>\n",
              "      <td>f</td>\n",
              "      <td>2</td>\n",
              "      <td>0</td>\n",
              "      <td>2</td>\n",
              "      <td>0</td>\n",
              "      <td>4.16</td>\n",
              "    </tr>\n",
              "  </tbody>\n",
              "</table>\n",
              "<p>5 rows × 75 columns</p>\n",
              "</div>\n",
              "    <div class=\"colab-df-buttons\">\n",
              "\n",
              "  <div class=\"colab-df-container\">\n",
              "    <button class=\"colab-df-convert\" onclick=\"convertToInteractive('df-7dd058b0-a01f-4825-8666-90980e037abf')\"\n",
              "            title=\"Convert this dataframe to an interactive table.\"\n",
              "            style=\"display:none;\">\n",
              "\n",
              "  <svg xmlns=\"http://www.w3.org/2000/svg\" height=\"24px\" viewBox=\"0 -960 960 960\">\n",
              "    <path d=\"M120-120v-720h720v720H120Zm60-500h600v-160H180v160Zm220 220h160v-160H400v160Zm0 220h160v-160H400v160ZM180-400h160v-160H180v160Zm440 0h160v-160H620v160ZM180-180h160v-160H180v160Zm440 0h160v-160H620v160Z\"/>\n",
              "  </svg>\n",
              "    </button>\n",
              "\n",
              "  <style>\n",
              "    .colab-df-container {\n",
              "      display:flex;\n",
              "      gap: 12px;\n",
              "    }\n",
              "\n",
              "    .colab-df-convert {\n",
              "      background-color: #E8F0FE;\n",
              "      border: none;\n",
              "      border-radius: 50%;\n",
              "      cursor: pointer;\n",
              "      display: none;\n",
              "      fill: #1967D2;\n",
              "      height: 32px;\n",
              "      padding: 0 0 0 0;\n",
              "      width: 32px;\n",
              "    }\n",
              "\n",
              "    .colab-df-convert:hover {\n",
              "      background-color: #E2EBFA;\n",
              "      box-shadow: 0px 1px 2px rgba(60, 64, 67, 0.3), 0px 1px 3px 1px rgba(60, 64, 67, 0.15);\n",
              "      fill: #174EA6;\n",
              "    }\n",
              "\n",
              "    .colab-df-buttons div {\n",
              "      margin-bottom: 4px;\n",
              "    }\n",
              "\n",
              "    [theme=dark] .colab-df-convert {\n",
              "      background-color: #3B4455;\n",
              "      fill: #D2E3FC;\n",
              "    }\n",
              "\n",
              "    [theme=dark] .colab-df-convert:hover {\n",
              "      background-color: #434B5C;\n",
              "      box-shadow: 0px 1px 3px 1px rgba(0, 0, 0, 0.15);\n",
              "      filter: drop-shadow(0px 1px 2px rgba(0, 0, 0, 0.3));\n",
              "      fill: #FFFFFF;\n",
              "    }\n",
              "  </style>\n",
              "\n",
              "    <script>\n",
              "      const buttonEl =\n",
              "        document.querySelector('#df-7dd058b0-a01f-4825-8666-90980e037abf button.colab-df-convert');\n",
              "      buttonEl.style.display =\n",
              "        google.colab.kernel.accessAllowed ? 'block' : 'none';\n",
              "\n",
              "      async function convertToInteractive(key) {\n",
              "        const element = document.querySelector('#df-7dd058b0-a01f-4825-8666-90980e037abf');\n",
              "        const dataTable =\n",
              "          await google.colab.kernel.invokeFunction('convertToInteractive',\n",
              "                                                    [key], {});\n",
              "        if (!dataTable) return;\n",
              "\n",
              "        const docLinkHtml = 'Like what you see? Visit the ' +\n",
              "          '<a target=\"_blank\" href=https://colab.research.google.com/notebooks/data_table.ipynb>data table notebook</a>'\n",
              "          + ' to learn more about interactive tables.';\n",
              "        element.innerHTML = '';\n",
              "        dataTable['output_type'] = 'display_data';\n",
              "        await google.colab.output.renderOutput(dataTable, element);\n",
              "        const docLink = document.createElement('div');\n",
              "        docLink.innerHTML = docLinkHtml;\n",
              "        element.appendChild(docLink);\n",
              "      }\n",
              "    </script>\n",
              "  </div>\n",
              "\n",
              "\n",
              "<div id=\"df-352e4655-1229-48cc-84c4-049cc02a5aed\">\n",
              "  <button class=\"colab-df-quickchart\" onclick=\"quickchart('df-352e4655-1229-48cc-84c4-049cc02a5aed')\"\n",
              "            title=\"Suggest charts\"\n",
              "            style=\"display:none;\">\n",
              "\n",
              "<svg xmlns=\"http://www.w3.org/2000/svg\" height=\"24px\"viewBox=\"0 0 24 24\"\n",
              "     width=\"24px\">\n",
              "    <g>\n",
              "        <path d=\"M19 3H5c-1.1 0-2 .9-2 2v14c0 1.1.9 2 2 2h14c1.1 0 2-.9 2-2V5c0-1.1-.9-2-2-2zM9 17H7v-7h2v7zm4 0h-2V7h2v10zm4 0h-2v-4h2v4z\"/>\n",
              "    </g>\n",
              "</svg>\n",
              "  </button>\n",
              "\n",
              "<style>\n",
              "  .colab-df-quickchart {\n",
              "      --bg-color: #E8F0FE;\n",
              "      --fill-color: #1967D2;\n",
              "      --hover-bg-color: #E2EBFA;\n",
              "      --hover-fill-color: #174EA6;\n",
              "      --disabled-fill-color: #AAA;\n",
              "      --disabled-bg-color: #DDD;\n",
              "  }\n",
              "\n",
              "  [theme=dark] .colab-df-quickchart {\n",
              "      --bg-color: #3B4455;\n",
              "      --fill-color: #D2E3FC;\n",
              "      --hover-bg-color: #434B5C;\n",
              "      --hover-fill-color: #FFFFFF;\n",
              "      --disabled-bg-color: #3B4455;\n",
              "      --disabled-fill-color: #666;\n",
              "  }\n",
              "\n",
              "  .colab-df-quickchart {\n",
              "    background-color: var(--bg-color);\n",
              "    border: none;\n",
              "    border-radius: 50%;\n",
              "    cursor: pointer;\n",
              "    display: none;\n",
              "    fill: var(--fill-color);\n",
              "    height: 32px;\n",
              "    padding: 0;\n",
              "    width: 32px;\n",
              "  }\n",
              "\n",
              "  .colab-df-quickchart:hover {\n",
              "    background-color: var(--hover-bg-color);\n",
              "    box-shadow: 0 1px 2px rgba(60, 64, 67, 0.3), 0 1px 3px 1px rgba(60, 64, 67, 0.15);\n",
              "    fill: var(--button-hover-fill-color);\n",
              "  }\n",
              "\n",
              "  .colab-df-quickchart-complete:disabled,\n",
              "  .colab-df-quickchart-complete:disabled:hover {\n",
              "    background-color: var(--disabled-bg-color);\n",
              "    fill: var(--disabled-fill-color);\n",
              "    box-shadow: none;\n",
              "  }\n",
              "\n",
              "  .colab-df-spinner {\n",
              "    border: 2px solid var(--fill-color);\n",
              "    border-color: transparent;\n",
              "    border-bottom-color: var(--fill-color);\n",
              "    animation:\n",
              "      spin 1s steps(1) infinite;\n",
              "  }\n",
              "\n",
              "  @keyframes spin {\n",
              "    0% {\n",
              "      border-color: transparent;\n",
              "      border-bottom-color: var(--fill-color);\n",
              "      border-left-color: var(--fill-color);\n",
              "    }\n",
              "    20% {\n",
              "      border-color: transparent;\n",
              "      border-left-color: var(--fill-color);\n",
              "      border-top-color: var(--fill-color);\n",
              "    }\n",
              "    30% {\n",
              "      border-color: transparent;\n",
              "      border-left-color: var(--fill-color);\n",
              "      border-top-color: var(--fill-color);\n",
              "      border-right-color: var(--fill-color);\n",
              "    }\n",
              "    40% {\n",
              "      border-color: transparent;\n",
              "      border-right-color: var(--fill-color);\n",
              "      border-top-color: var(--fill-color);\n",
              "    }\n",
              "    60% {\n",
              "      border-color: transparent;\n",
              "      border-right-color: var(--fill-color);\n",
              "    }\n",
              "    80% {\n",
              "      border-color: transparent;\n",
              "      border-right-color: var(--fill-color);\n",
              "      border-bottom-color: var(--fill-color);\n",
              "    }\n",
              "    90% {\n",
              "      border-color: transparent;\n",
              "      border-bottom-color: var(--fill-color);\n",
              "    }\n",
              "  }\n",
              "</style>\n",
              "\n",
              "  <script>\n",
              "    async function quickchart(key) {\n",
              "      const quickchartButtonEl =\n",
              "        document.querySelector('#' + key + ' button');\n",
              "      quickchartButtonEl.disabled = true;  // To prevent multiple clicks.\n",
              "      quickchartButtonEl.classList.add('colab-df-spinner');\n",
              "      try {\n",
              "        const charts = await google.colab.kernel.invokeFunction(\n",
              "            'suggestCharts', [key], {});\n",
              "      } catch (error) {\n",
              "        console.error('Error during call to suggestCharts:', error);\n",
              "      }\n",
              "      quickchartButtonEl.classList.remove('colab-df-spinner');\n",
              "      quickchartButtonEl.classList.add('colab-df-quickchart-complete');\n",
              "    }\n",
              "    (() => {\n",
              "      let quickchartButtonEl =\n",
              "        document.querySelector('#df-352e4655-1229-48cc-84c4-049cc02a5aed button');\n",
              "      quickchartButtonEl.style.display =\n",
              "        google.colab.kernel.accessAllowed ? 'block' : 'none';\n",
              "    })();\n",
              "  </script>\n",
              "</div>\n",
              "    </div>\n",
              "  </div>\n"
            ],
            "application/vnd.google.colaboratory.intrinsic+json": {
              "type": "dataframe",
              "variable_name": "listings"
            }
          },
          "metadata": {},
          "execution_count": 16
        }
      ]
    },
    {
      "cell_type": "markdown",
      "source": [
        "---\n",
        "### **Bersihkan kolom `price`**"
      ],
      "metadata": {
        "id": "ATFA3wal8hFQ"
      }
    },
    {
      "cell_type": "code",
      "source": [
        "listings[\"price\"].head()"
      ],
      "metadata": {
        "colab": {
          "base_uri": "https://localhost:8080/"
        },
        "id": "BGE9TAKc8fOn",
        "outputId": "35608db6-972c-4739-dd1d-ba340109faec"
      },
      "execution_count": 17,
      "outputs": [
        {
          "output_type": "execute_result",
          "data": {
            "text/plain": [
              "0     $49.00\n",
              "1    $106.00\n",
              "2    $136.00\n",
              "3     $75.00\n",
              "4     $55.00\n",
              "Name: price, dtype: object"
            ]
          },
          "metadata": {},
          "execution_count": 17
        }
      ]
    },
    {
      "cell_type": "markdown",
      "source": [
        "- Terlihat kolom `price` masih ada simbol dollar $\n",
        "- Sehingga bertipe `object`\n",
        "- Artinya tidak bisa dianggap sebagai integer\n",
        "- **Harus dibersihkan**"
      ],
      "metadata": {
        "id": "cpi827mV8kad"
      }
    },
    {
      "cell_type": "markdown",
      "source": [
        "Sebelum melakukan visualisasi, akan dilakukan cleaning sederhana pada kolom price agar dapat divisualisasikan.\n",
        "\n",
        "- Hilangkan dollar `$`\n",
        "- Hilangkan `.`\n",
        "- Convert jadi `float`"
      ],
      "metadata": {
        "id": "7GgkL8Ke8lx-"
      }
    },
    {
      "cell_type": "code",
      "source": [
        "# Menghilangakan tanda $\n",
        "listings[\"price\"] = listings[\"price\"].str.replace(\"$\", \"\")\n",
        "\n",
        "# Menghilakan tanda koma untuk satuan ribuan\n",
        "listings[\"price\"] = listings[\"price\"].str.replace(\",\", \"\")\n",
        "\n",
        "# mengubah tipe price menjadi float\n",
        "listings[\"price\"] = listings[\"price\"].astype(float)"
      ],
      "metadata": {
        "id": "Id2Vtx4e8jKf"
      },
      "execution_count": 18,
      "outputs": []
    },
    {
      "cell_type": "code",
      "source": [
        "listings[\"price\"].head()"
      ],
      "metadata": {
        "colab": {
          "base_uri": "https://localhost:8080/"
        },
        "id": "UUGwm3jd_BZA",
        "outputId": "c3c6716e-0ddf-4b41-f8b1-bbb611cfef94"
      },
      "execution_count": 19,
      "outputs": [
        {
          "output_type": "execute_result",
          "data": {
            "text/plain": [
              "0     49.0\n",
              "1    106.0\n",
              "2    136.0\n",
              "3     75.0\n",
              "4     55.0\n",
              "Name: price, dtype: float64"
            ]
          },
          "metadata": {},
          "execution_count": 19
        }
      ]
    },
    {
      "cell_type": "code",
      "source": [
        "# mengubah tipe price menjadi float\n",
        "listings[\"price\"] = listings[\"price\"].astype(float)"
      ],
      "metadata": {
        "id": "exElujcQ_Fbo"
      },
      "execution_count": 20,
      "outputs": []
    },
    {
      "cell_type": "code",
      "source": [
        "listings[\"price\"].head()"
      ],
      "metadata": {
        "colab": {
          "base_uri": "https://localhost:8080/"
        },
        "id": "-bdOpRBj_hqO",
        "outputId": "420dc295-d9f6-49ce-94b1-84cdb8492f90"
      },
      "execution_count": 21,
      "outputs": [
        {
          "output_type": "execute_result",
          "data": {
            "text/plain": [
              "0     49.0\n",
              "1    106.0\n",
              "2    136.0\n",
              "3     75.0\n",
              "4     55.0\n",
              "Name: price, dtype: float64"
            ]
          },
          "metadata": {},
          "execution_count": 21
        }
      ]
    },
    {
      "cell_type": "markdown",
      "source": [
        "### 2.1 Struktur Dasar"
      ],
      "metadata": {
        "id": "hltY3pqaNLlT"
      }
    },
    {
      "cell_type": "markdown",
      "source": [
        "Seaborn merupakan library yang dibuat diatas matplotlib, sehinga struktur visualisasi seaborn dapat menggunakan/mengikuti struktur yang ada di matplotlib."
      ],
      "metadata": {
        "id": "5iSUJfXmNMyh"
      }
    },
    {
      "cell_type": "markdown",
      "source": [
        "Matplotlib memiliki banyak jenis sub kategori yang membantu dalam plotting. Untuk kali ini digunakan `pyplot` untuk subplots."
      ],
      "metadata": {
        "id": "6ATHtdI0NOFb"
      }
    },
    {
      "cell_type": "markdown",
      "source": [
        "Plot pada matplotlib dibagi menjadi dua, yaitu `Axes` dan `Figure`.\n",
        "- Axes adalah individual plot\n",
        "- Figure adalah plot secara keseluruhan.\n",
        "\n",
        "Pada contoh berikut, `plt.subplots` menghasilkan dua variable yaitu `fig` dan `ax`, masing-masing mewakili `Figure` dan `Axes`"
      ],
      "metadata": {
        "id": "86VDB-MQNPaS"
      }
    },
    {
      "cell_type": "code",
      "source": [
        "# Import library yang dibutuhkan\n",
        "import matplotlib.pyplot as plt\n",
        "import seaborn as sns"
      ],
      "metadata": {
        "id": "s6ullvYc_j2F"
      },
      "execution_count": 22,
      "outputs": []
    },
    {
      "cell_type": "code",
      "source": [
        "# Struktur dasar subplots pyplot\n",
        "fig, ax = plt.subplots(nrows = 1, ncols=1)"
      ],
      "metadata": {
        "colab": {
          "base_uri": "https://localhost:8080/",
          "height": 435
        },
        "id": "BubCK4c_NRfz",
        "outputId": "29ca2e8a-12e3-4d07-e070-f912ecc6281b"
      },
      "execution_count": 23,
      "outputs": [
        {
          "output_type": "display_data",
          "data": {
            "text/plain": [
              "<Figure size 640x480 with 1 Axes>"
            ],
            "image/png": "[encoded data removed]"
          },
          "metadata": {}
        }
      ]
    },
    {
      "cell_type": "markdown",
      "source": [
        "- `nrows` menentukan berapa baris (vertical) plot yang akan dibuat dan `ncols` menentukan berapa kolom (horizontal) yang akan dibuat."
      ],
      "metadata": {
        "id": "ZFwV9mUxNYoF"
      }
    },
    {
      "cell_type": "code",
      "source": [
        "# Membuat subplots dengan 2 baris dan 3 kolom\n",
        "fig, ax = plt.subplots(nrows = 2, ncols=3)"
      ],
      "metadata": {
        "colab": {
          "base_uri": "https://localhost:8080/",
          "height": 435
        },
        "id": "5kPPXFeTNW1_",
        "outputId": "3064fa55-27b1-4604-ec77-78b204088611"
      },
      "execution_count": 24,
      "outputs": [
        {
          "output_type": "display_data",
          "data": {
            "text/plain": [
              "<Figure size 640x480 with 6 Axes>"
            ],
            "image/png": "[encoded data removed]"
          },
          "metadata": {}
        }
      ]
    },
    {
      "cell_type": "markdown",
      "source": [
        "- Plot dapat diubah ukuran figurenya dengan menggunakan parameter figsize.\n",
        "- Figsize menerima input berupa `lebar` dan `tinggi` dari figure yang akan dibuat. `figsize=(lebar, tinggi)`"
      ],
      "metadata": {
        "id": "XW9yJQzRNh9Q"
      }
    },
    {
      "cell_type": "code",
      "source": [
        "# Membuat subplots dengan mengubah ukuran figure\n",
        "fig, ax = plt.subplots(nrows = 2, ncols = 3, figsize = (14, 10))"
      ],
      "metadata": {
        "colab": {
          "base_uri": "https://localhost:8080/",
          "height": 477
        },
        "id": "DJ_l8GqKNfHa",
        "outputId": "66cd2f4c-53ad-4b12-f427-197f310e1c4c"
      },
      "execution_count": 25,
      "outputs": [
        {
          "output_type": "display_data",
          "data": {
            "text/plain": [
              "<Figure size 1400x1000 with 6 Axes>"
            ],
            "image/png": "[encoded data removed]"
          },
          "metadata": {}
        }
      ]
    },
    {
      "cell_type": "markdown",
      "source": [
        "### 2.2 Struktur Axes"
      ],
      "metadata": {
        "id": "CQsNY6snNofM"
      }
    },
    {
      "cell_type": "markdown",
      "source": [
        "Apabila menggunakan subplots, nilai `ax` akan menjadi sebuah array sejumlah subplots yang dibuat. Arraynya akan menjadi dua tingkat. Pertama mewakili baris dan yang kedua mewakili kolom. Pada contoh diatas `ax` akan mengandung 2 buah array dan masing-masing array mengadung tiga `Axes`."
      ],
      "metadata": {
        "id": "UC-Or2XONqJr"
      }
    },
    {
      "cell_type": "code",
      "source": [
        "# List subplots pada axis\n",
        "print(ax)"
      ],
      "metadata": {
        "colab": {
          "base_uri": "https://localhost:8080/"
        },
        "id": "tm0b7Q2NNkyf",
        "outputId": "b6e4e095-25cb-4288-ee2b-a333edd3d077"
      },
      "execution_count": 26,
      "outputs": [
        {
          "output_type": "stream",
          "name": "stdout",
          "text": [
            "[[<Axes: > <Axes: > <Axes: >]\n",
            " [<Axes: > <Axes: > <Axes: >]]\n"
          ]
        }
      ]
    },
    {
      "cell_type": "markdown",
      "source": [
        "Masing-masing plot dapat diisi dengan mengakses akses dari subplot. Dalam notebook ini, axes disimpan pada variable `ax`."
      ],
      "metadata": {
        "id": "cuMQh-UaN35N"
      }
    },
    {
      "cell_type": "code",
      "source": [
        "# Membuat subplot 2 baris dan 2 kolom\n",
        "# dengan lebar figure secara keseluruhan 14 x 10\n",
        "fig, ax = plt.subplots(nrows = 2,\n",
        "                       ncols = 2,\n",
        "                       figsize = (14,10))\n",
        "\n",
        "# visualisasi sebelah kiri pertama\n",
        "sns.histplot(data = listings,\n",
        "            x = 'price',\n",
        "            ax = ax[0,0])\n",
        "\n",
        "# visualisasi sebelah kanan pertama\n",
        "sns.barplot(data = listings,\n",
        "            x = 'room_type',\n",
        "            y = 'price',\n",
        "            ax = ax[0,1])\n",
        "\n",
        "# visualisasi sebelah kiri kedua\n",
        "sns.scatterplot(data = listings,\n",
        "                x = 'number_of_reviews',\n",
        "                y = \"reviews_per_month\",\n",
        "                ax = ax[1,0])\n",
        "\n",
        "# visualisasi sebelah kanan kedua\n",
        "sns.barplot(data = listings,\n",
        "            x = 'room_type',\n",
        "            y = 'reviews_per_month',\n",
        "            ax = ax[1,1])\n",
        "\n",
        "# Menambahkan judul pada figure\n",
        "fig.suptitle(\"sebuah judul\",\n",
        "             fontsize = 40)\n",
        "\n",
        "plt.show()"
      ],
      "metadata": {
        "colab": {
          "base_uri": "https://localhost:8080/",
          "height": 535
        },
        "id": "N2EXULtkNvKt",
        "outputId": "4d9d89f2-8af1-4456-d4cf-a5b0b8fb6bc7"
      },
      "execution_count": 27,
      "outputs": [
        {
          "output_type": "display_data",
          "data": {
            "text/plain": [
              "<Figure size 1400x1000 with 4 Axes>"
            ],
            "image/png": "[encoded data removed]"
          },
          "metadata": {}
        }
      ]
    },
    {
      "cell_type": "markdown",
      "source": [
        "- `ax[0][0]` berarti kita mengisi plot baris pertama dan kolom pertama (pada python array dimulai dari 0).\n",
        "- Pada contoh diatas, disajikan 4 buah plot."
      ],
      "metadata": {
        "id": "WrDrvs9eV0ov"
      }
    },
    {
      "cell_type": "markdown",
      "source": [
        "#### **2.2.1 Styling Subplots**\n"
      ],
      "metadata": {
        "id": "LeAY7QcPV2ZG"
      }
    },
    {
      "cell_type": "markdown",
      "source": [
        "Styling dapat dilakukan terhadap setiap subplots yang dibuat. Hal ini dilakukan dengan memanfaatkan posisi tiap subplots pada `Axes`. Beberapa contoh styling yang dapat dilakukan pada subplots yaitu:"
      ],
      "metadata": {
        "id": "IM1NdI8pV3a9"
      }
    },
    {
      "cell_type": "markdown",
      "source": [
        "* `.set_xlabel` menentukan label pada X axis\n",
        "* `.set_ylabel` menentukan label pada Y axis\n",
        "* `.set_title` menentukan judul title\n",
        "* `.legend` menampilkan label yang ada pada data\n",
        "\n",
        "Detailnya dapat dilihat [disini](https://matplotlib.org/api/axes_api.html?#cA) pada subbab *Axis Labels, title, and legend*"
      ],
      "metadata": {
        "id": "5HaH4fX4V4-H"
      }
    },
    {
      "cell_type": "code",
      "source": [
        "# Membuat subplots dengan 1 baris dan 2 kolom\n",
        "fig, ax = plt.subplots(nrows = 1,\n",
        "                       ncols = 2,\n",
        "                       figsize = (14, 10))\n",
        "\n",
        "# Membuat barplot average price per room type\n",
        "sns.barplot(data = listings,\n",
        "            x = \"room_type\",\n",
        "            y = \"price\",\n",
        "            ax = ax[0])\n",
        "\n",
        "# Melakukan styling pada subplot pertama (axes 0)\n",
        "# Menambahkan judul plot\n",
        "ax[0].set_title(\"Average Price by Room Type\",\n",
        "                fontsize = 20,\n",
        "                fontfamily = 'serif')\n",
        "\n",
        "# Mengubah label y\n",
        "ax[0].set_ylabel(\"Average Price\",\n",
        "                 fontsize = 15)\n",
        "\n",
        "# Mengubah label x\n",
        "ax[0].set_xlabel(\"Room Type\",\n",
        "                 fontsize = 15,\n",
        "                 fontfamily = 'monospace')\n",
        "\n",
        "\n",
        "# Membuat barplot reviews per month by room type\n",
        "sns.barplot(data = listings,\n",
        "            x = \"room_type\",\n",
        "            y = \"number_of_reviews\",\n",
        "            ax = ax[1])\n",
        "\n",
        "# Melakukan styling pada subplot kedua (axes 1)\n",
        "# Menambahkan judul pada subplots\n",
        "ax[1].set_title(\"Average Reviews by Room Type\",\n",
        "                fontsize = 20,\n",
        "                fontfamily = 'serif')\n",
        "\n",
        "# Mengubah label y\n",
        "ax[1].set_ylabel(\"Average Number of Reviews\",\n",
        "                 fontsize = 15)\n",
        "\n",
        "# Mengubah label x\n",
        "ax[1].set_xlabel(\"Room Type\",\n",
        "                 fontsize = 15,\n",
        "                 fontfamily = 'monospace')\n",
        "\n",
        "plt.show()"
      ],
      "metadata": {
        "colab": {
          "base_uri": "https://localhost:8080/",
          "height": 497
        },
        "id": "-_Wj4Y4wPbfe",
        "outputId": "e34f26fd-1a30-488a-815f-aa963681f5fe"
      },
      "execution_count": 28,
      "outputs": [
        {
          "output_type": "display_data",
          "data": {
            "text/plain": [
              "<Figure size 1400x1000 with 2 Axes>"
            ],
            "image/png": "[encoded data removed]"
          },
          "metadata": {}
        }
      ]
    },
    {
      "cell_type": "markdown",
      "source": [
        "### **3 Struktur Figure**"
      ],
      "metadata": {
        "id": "aFBOpToCWYd2"
      }
    },
    {
      "cell_type": "markdown",
      "source": [
        "Dalam suatu figure, dapat ditambahkan beberapa informasi untuk memperjelas data yang ditampilkan"
      ],
      "metadata": {
        "id": "nuJT_hKoWba8"
      }
    },
    {
      "cell_type": "code",
      "source": [
        "# membuat subplot\n",
        "fig, ax = plt.subplots(nrows = 2,\n",
        "                       ncols = 1,\n",
        "                       figsize = (14, 10))\n",
        "\n",
        "# Menambahkan judul pada figure\n",
        "fig.suptitle(\"sebuah judul\",\n",
        "             fontsize = 40)\n",
        "\n",
        "# Menambahkan judul pada subplots 1\n",
        "ax[0].set_title(\"subtitle 1\",\n",
        "                fontsize = 20)\n",
        "\n",
        "# Menambahkan judul pada subplots 2\n",
        "ax[1].set_title(\"subtitle 2\",\n",
        "                fontsize = 20)\n",
        "\n",
        "plt.show()"
      ],
      "metadata": {
        "colab": {
          "base_uri": "https://localhost:8080/",
          "height": 530
        },
        "id": "inFFuQAWV7-s",
        "outputId": "cec3fb61-7448-4e7c-e9e8-a22553a76053"
      },
      "execution_count": 29,
      "outputs": [
        {
          "output_type": "display_data",
          "data": {
            "text/plain": [
              "<Figure size 1400x1000 with 2 Axes>"
            ],
            "image/png": "[encoded data removed]"
          },
          "metadata": {}
        }
      ]
    },
    {
      "cell_type": "markdown",
      "source": [
        "* `.suptitle` menambahkan judul untuk keseluruhan figure"
      ],
      "metadata": {
        "id": "k6XnYRnUWfMx"
      }
    },
    {
      "cell_type": "markdown",
      "source": [
        "Apa yang diterapkan sebelumnya pada notebook Struktur Axes, dapat diterapkan disini juga\n",
        "\n",
        "* parameter `sharey` dan `sharex` digunakan agar kedua plot memiliki axis X atau Y yang sama\n",
        "* parameter `sharex` membuat subplots pada satu kolom memiliki axis x yang sama\n",
        "* parameter `sharey` membuat subplots pada satu baris memiliki axis y yang sama"
      ],
      "metadata": {
        "id": "qd-YJUTUWgbM"
      }
    },
    {
      "cell_type": "code",
      "source": [
        "#  Membuat subplot dengan axis x yang sama\n",
        "fig, axes = plt.subplots(nrows = 2,\n",
        "                         ncols = 1,\n",
        "                         sharex = True)"
      ],
      "metadata": {
        "colab": {
          "base_uri": "https://localhost:8080/",
          "height": 435
        },
        "id": "81anvCGYWc3y",
        "outputId": "50836d37-76e6-40fc-b85e-33fc6164b4db"
      },
      "execution_count": 30,
      "outputs": [
        {
          "output_type": "display_data",
          "data": {
            "text/plain": [
              "<Figure size 640x480 with 2 Axes>"
            ],
            "image/png": "[encoded data removed]"
          },
          "metadata": {}
        }
      ]
    },
    {
      "cell_type": "markdown",
      "source": [
        "Pada contoh berikut digunakan axis Y yang sama dari kedua subplots"
      ],
      "metadata": {
        "id": "qdsgk9rZWjdv"
      }
    },
    {
      "cell_type": "code",
      "source": [
        "# Membuat subplots dengan axis Y yang sama\n",
        "fig, ax = plt.subplots(nrows = 1,\n",
        "                       ncols = 2,\n",
        "                       figsize = (14, 10),\n",
        "                       sharey = True)\n",
        "\n",
        "# Membuat barplot average price per room type\n",
        "sns.barplot(data = listings,\n",
        "            x = \"room_type\",\n",
        "            y = \"price\",\n",
        "            ax = ax[0])\n",
        "\n",
        "\n",
        "# Melakukan styling pada subplot pertama (axes 0)\n",
        "# Menambahkan judul plot\n",
        "ax[0].set_title(\"Average Price by Room Type\",\n",
        "                fontsize = 20,\n",
        "                fontfamily = 'serif')\n",
        "\n",
        "# Mengubah label y\n",
        "ax[0].set_ylabel(\"Average Price\",\n",
        "                 fontsize = 15)\n",
        "\n",
        "# Mengubah label x\n",
        "ax[0].set_xlabel(\"Room Type\",\n",
        "                 fontsize = 15,\n",
        "                 fontfamily = 'monospace')\n",
        "\n",
        "\n",
        "# Membuat barplot reviews per month by room type\n",
        "sns.barplot(data = listings,\n",
        "            x = \"room_type\",\n",
        "            y = \"number_of_reviews\",\n",
        "            ax = ax[1])\n",
        "\n",
        "# Melakukan styling pada subplot kedua (axes 1)\n",
        "# Menambahkan judul pada subplots\n",
        "ax[1].set_title(\"Average Reviews by Room Type\",\n",
        "                fontsize = 20,\n",
        "                fontfamily = 'serif')\n",
        "\n",
        "# Mengubah label y\n",
        "ax[1].set_ylabel(\"Average Number of Reviews\",\n",
        "                 fontsize = 15)\n",
        "\n",
        "# Mengubah label x\n",
        "ax[1].set_xlabel(\"Room Type\",\n",
        "                 fontsize = 15,\n",
        "                 fontfamily = 'monospace')\n",
        "\n",
        "plt.show()"
      ],
      "metadata": {
        "colab": {
          "base_uri": "https://localhost:8080/",
          "height": 497
        },
        "id": "P9mPwvvlWh0j",
        "outputId": "041111a4-ed89-4a79-8424-59239040a4e0"
      },
      "execution_count": 31,
      "outputs": [
        {
          "output_type": "display_data",
          "data": {
            "text/plain": [
              "<Figure size 1400x1000 with 2 Axes>"
            ],
            "image/png": "[encoded data removed]"
          },
          "metadata": {}
        }
      ]
    },
    {
      "cell_type": "markdown",
      "source": [
        "## **2. High Dimensionality Plot**"
      ],
      "metadata": {
        "id": "VOMr_vFYWnqk"
      }
    },
    {
      "cell_type": "markdown",
      "source": [
        "- Pada beberapa kasus, kita perlu memvisualkan lebih dari 1 atau 2 variabel didalam figure yang sama.\n",
        "- Misalnya, memvisualkan sebaran **harga rumah** tiap **tipe ruangan**.\n",
        "- Untuk melakukannya dapat dilakukan dengan cara:\n",
        "    1. Membreakdown seberan harga rumah dengan menggunakan parameter hue\n",
        "    2. Membuat masing-masing subplot sebaran harga rumah untuk tiap room_type"
      ],
      "metadata": {
        "id": "wzQTxIwYWpDv"
      }
    },
    {
      "cell_type": "markdown",
      "source": [
        "**1. Membreakdown sebaran `harga rumah` dalam plot yang sama dapat dilakukan dengan menambahkan kolom pada parameter `y` atau `hue`**"
      ],
      "metadata": {
        "id": "KEmuZB6aWrqr"
      }
    },
    {
      "cell_type": "markdown",
      "source": [
        "*Karena variabelnya numerik & kategorikal, kita bisa gunakan boxplot*"
      ],
      "metadata": {
        "id": "2VxpQaRHWs1G"
      }
    },
    {
      "cell_type": "code",
      "source": [
        "# Buat figure\n",
        "fig, ax = plt.subplots(figsize = (16, 6))\n",
        "\n",
        "# Buat boxplot dengan seaborn\n",
        "sns.boxplot(data = listings,\n",
        "            x = \"price\",\n",
        "            y = \"room_type\",\n",
        "            ax = ax)\n",
        "\n",
        "plt.show()"
      ],
      "metadata": {
        "colab": {
          "base_uri": "https://localhost:8080/",
          "height": 259
        },
        "id": "u260uTBUWkol",
        "outputId": "a419388e-bb06-4d3a-af0a-784796da23d9"
      },
      "execution_count": 32,
      "outputs": [
        {
          "output_type": "display_data",
          "data": {
            "text/plain": [
              "<Figure size 1600x600 with 1 Axes>"
            ],
            "image/png": "[encoded data removed]"
          },
          "metadata": {}
        }
      ]
    },
    {
      "cell_type": "markdown",
      "source": [
        "- Terlihat harga properti sangat variatif, hingga $8,000\n",
        "- Median harga properti tertinggi adalah `Hotel Room` sedangkan `shared room` yang paling rendah\n",
        "- Variasi harga properti dari `entire home/apt` paling besar dibanding lainnya"
      ],
      "metadata": {
        "id": "tWUw7rFuWw-N"
      }
    },
    {
      "cell_type": "markdown",
      "source": [
        "**2.  Membuat masing-masing subplot sebaran harga rumah untuk tiap room_type**"
      ],
      "metadata": {
        "id": "s5qDjaPVWynf"
      }
    },
    {
      "cell_type": "markdown",
      "source": [
        "- Kita buat distribusi harga dalam 4 subplots\n",
        "- 1 subplots menjelaskan distribusi harga di satu tipe"
      ],
      "metadata": {
        "id": "Zi4a36gEW0eg"
      }
    },
    {
      "cell_type": "code",
      "source": [
        "# Membuat list tipe room\n",
        "rooms_type = list(listings[\"room_type\"].unique())\n",
        "rooms_type"
      ],
      "metadata": {
        "colab": {
          "base_uri": "https://localhost:8080/"
        },
        "id": "53OyHBUFWuy0",
        "outputId": "0f619945-f85d-4c20-9ebc-f17e5d0905a5"
      },
      "execution_count": 33,
      "outputs": [
        {
          "output_type": "execute_result",
          "data": {
            "text/plain": [
              "['Private room', 'Entire home/apt', 'Hotel room', 'Shared room']"
            ]
          },
          "metadata": {},
          "execution_count": 33
        }
      ]
    },
    {
      "cell_type": "code",
      "source": [
        "# Buat base figure & axes sesuai dengan jumlah room_type (4)\n",
        "fig, ax = plt.subplots(nrows = 2, ncols = 2,\n",
        "                       figsize = (14, 10),\n",
        "                       sharex = True, sharey = True)\n",
        "\n",
        "# Menambahkan title pada figure\n",
        "fig.suptitle('Perbandingan sebaran harga sewa property berdasarkan tipe ruangan',\n",
        "             fontsize = 20)\n",
        "\n",
        "# --- PLOT PRIVATE ROOM ---\n",
        "# Filtering harga untuk room type private room\n",
        "price_private = listings[listings[\"room_type\"] == rooms_type[0]]\n",
        "\n",
        "# Plot sebaran price untuk private room\n",
        "sns.histplot(data = price_private,\n",
        "             x = \"price\",\n",
        "             ax = ax[0, 0],\n",
        "             stat=\"density\")\n",
        "\n",
        "# Menambahkan judul pada subplot sebaran price private room\n",
        "ax[0, 0].set_title(f\"Tipe ruangan: {rooms_type[0]}\")\n",
        "\n",
        "\n",
        "# --- PLOT ENTIRE HOME/APT ---\n",
        "# Filtering harga untuk room type entire home/apt room\n",
        "price_home_apt = listings[listings[\"room_type\"] == rooms_type[1]]\n",
        "\n",
        "# Plot sebaran price untuk entire home/apt room\n",
        "sns.histplot(data = price_home_apt,\n",
        "             x = \"price\",\n",
        "             ax = ax[0, 1],\n",
        "             stat=\"density\")\n",
        "\n",
        "# Menambahkan judul pada subplot sebaran price entire home/apt room\n",
        "ax[0, 1].set_title(f\"Tipe ruangan: {rooms_type[1]}\")\n",
        "\n",
        "\n",
        "# --- PLOT HOTEL ---\n",
        "# Filtering harga untuk room type hotel room\n",
        "price_hotel = listings[listings[\"room_type\"] == rooms_type[2]]\n",
        "\n",
        "# Plot sebaran price untuk hotel room\n",
        "sns.histplot(data = price_hotel,\n",
        "             x = \"price\",\n",
        "             ax = ax[1, 0],\n",
        "             stat=\"density\")\n",
        "\n",
        "# Menambahkan judul pada subplot sebaran price hotel room\n",
        "ax[1, 0].set_title(f\"Tipe ruangan: {rooms_type[2]}\")\n",
        "\n",
        "\n",
        "# --- PLOT SHARED ROOM ---\n",
        "# Filtering harga untuk room type shared room\n",
        "price_shared = listings[listings[\"room_type\"] == rooms_type[3]]\n",
        "\n",
        "# Plot sebaran price untuk shared room\n",
        "sns.histplot(data = price_shared,\n",
        "             x = \"price\",\n",
        "             ax = ax[1, 1],\n",
        "             stat=\"density\")\n",
        "\n",
        "# Menambahkan judul pada subplot sebaran price shared room\n",
        "ax[1, 1].set_title(f\"Tipe ruangan: {rooms_type[3]}\")\n",
        "\n",
        "plt.show()"
      ],
      "metadata": {
        "colab": {
          "base_uri": "https://localhost:8080/",
          "height": 529
        },
        "id": "hxlkBq95W1nZ",
        "outputId": "ca48667d-bf5b-4000-cc6d-21e8f8876964"
      },
      "execution_count": 34,
      "outputs": [
        {
          "output_type": "display_data",
          "data": {
            "text/plain": [
              "<Figure size 1400x1000 with 4 Axes>"
            ],
            "image/png": "[encoded data removed]"
          },
          "metadata": {}
        }
      ]
    },
    {
      "cell_type": "markdown",
      "source": [
        "Yang dapat diamati\n",
        "1. Plot tidak menggambarkan persebaran dengan jelas, karena persebaran harga sangat tinggi.\n",
        "2. Proses coding masih manual\n",
        "\n",
        "Solusi\n",
        "1. Price diubah jadi skala log\n",
        "2. Kita dapat menyederhanakan kode diatas dengan menggunakan operasi pengulangan saat melakukan plotting."
      ],
      "metadata": {
        "id": "SAN-6hJRYJsw"
      }
    },
    {
      "cell_type": "code",
      "source": [
        "# Mendefinisikan variabel jumlah row dan columns dari subplots yang dibuat\n",
        "# Variable ini digunakan untuk menentukan posisi plot\n",
        "total_rows = 2\n",
        "total_columns = 2\n",
        "\n",
        "# Membuat base subplots\n",
        "fig, ax = plt.subplots(nrows = total_rows,\n",
        "                       ncols = total_columns,\n",
        "                       figsize = (14, 10),\n",
        "                       sharex = True, sharey = True)\n",
        "\n",
        "# Melakukan ploting dengan pengulangan pada list rooms_type\n",
        "for [num, room_type] in enumerate(rooms_type):\n",
        "\n",
        "  # Menentukan posisi axes baris\n",
        "  rows = num // total_rows\n",
        "\n",
        "  # Menentukan posisi axes kolom\n",
        "  column = num % total_columns\n",
        "\n",
        "  # Memfilter data berdasarkan tipe room\n",
        "  price_by_room = listings[listings['room_type'] == room_type]\n",
        "\n",
        "  # TRANSFORMASI HARGA JADI LOG PRICE\n",
        "  price_by_room['price'] = np.log10(price_by_room['price'])\n",
        "\n",
        "  # Melakukan ploting dengan data yang telah difilter\n",
        "  sns.histplot(data = price_by_room,\n",
        "                x = \"price\",\n",
        "                ax = ax[rows, column],\n",
        "                stat=\"density\")\n",
        "\n",
        "  # Menambahkan sub title tiap subplot\n",
        "  ax[rows, column].set_title(f\"Tipe ruangan: {room_type}\")\n",
        "\n",
        "plt.show()"
      ],
      "metadata": {
        "colab": {
          "base_uri": "https://localhost:8080/",
          "height": 492
        },
        "id": "q5-0dk-YYFMb",
        "outputId": "d6f1d4fc-b012-40bc-bcd6-234df6e9fb73"
      },
      "execution_count": 35,
      "outputs": [
        {
          "output_type": "display_data",
          "data": {
            "text/plain": [
              "<Figure size 1400x1000 with 4 Axes>"
            ],
            "image/png": "[encoded data removed]"
          },
          "metadata": {}
        }
      ]
    },
    {
      "cell_type": "markdown",
      "source": [
        "# **Simple Data Cleaning**"
      ],
      "metadata": {
        "id": "k6Z1dnr_LjaW"
      }
    },
    {
      "cell_type": "markdown",
      "source": [
        "Pada notebook ini akan dipelajari cara untuk melakukan data wrangling sederhana dengan bantuan visualisasi\n",
        "\n",
        "**Objective**:\n",
        "1. Identify and Handling Missing Values\n",
        "2. Identify and Handling Inkonsistent Format\n",
        "3. Identify and Handling Outlier"
      ],
      "metadata": {
        "id": "UHFwgKK7LtNM"
      }
    },
    {
      "cell_type": "code",
      "source": [
        "# Import library yang dibutuhkan\n",
        "\n",
        "# Library pengolahan data\n",
        "import pandas as pd\n",
        "import numpy as np\n",
        "\n",
        "# Library visualisasi\n",
        "import matplotlib.pyplot as plt\n",
        "import seaborn as sns\n",
        "\n",
        "# Ignore warnings\n",
        "import warnings\n",
        "warnings.filterwarnings('ignore')"
      ],
      "metadata": {
        "id": "3VBjzfjZZMVA"
      },
      "execution_count": 36,
      "outputs": []
    },
    {
      "cell_type": "markdown",
      "source": [
        "---\n",
        "**Read data**\n",
        "- Dari file `listings.csv.gz`\n",
        "- Atau link: http://data.insideairbnb.com/the-netherlands/north-holland/amsterdam/2022-09-07/data/listings.csv.gz"
      ],
      "metadata": {
        "id": "cVD9dtgbMNcM"
      }
    },
    {
      "cell_type": "code",
      "source": [
        "# input\n",
        "filename = 'https://raw.githubusercontent.com/ham407/Air-BnB-Data-Cleaning/main/listings.csv'\n",
        "\n",
        "# Read data\n",
        "listings = pd.read_csv(filename)"
      ],
      "metadata": {
        "id": "kvDwOv5bMBHp"
      },
      "execution_count": 37,
      "outputs": []
    },
    {
      "cell_type": "code",
      "source": [
        "# Menampilkan 5 data teratas dari listings\n",
        "listings.head(5)"
      ],
      "metadata": {
        "colab": {
          "base_uri": "https://localhost:8080/",
          "height": 602
        },
        "id": "aJE2mVlgMWLr",
        "outputId": "408edb12-85d1-48e1-c8a4-77eaa74c8aa1"
      },
      "execution_count": 38,
      "outputs": [
        {
          "output_type": "execute_result",
          "data": {
            "text/plain": [
              "      id                         listing_url       scrape_id last_scraped  \\\n",
              "0   2818   https://www.airbnb.com/rooms/2818  20220907151523   2022-09-07   \n",
              "1  20168  https://www.airbnb.com/rooms/20168  20220907151523   2022-09-07   \n",
              "2  27886  https://www.airbnb.com/rooms/27886  20220907151523   2022-09-07   \n",
              "3  28871  https://www.airbnb.com/rooms/28871  20220907151523   2022-09-07   \n",
              "4  29051  https://www.airbnb.com/rooms/29051  20220907151523   2022-09-07   \n",
              "\n",
              "            source                                               name  \\\n",
              "0      city scrape           Quiet Garden View Room & Super Fast WiFi   \n",
              "1  previous scrape       Studio with private bathroom in the centre 1   \n",
              "2      city scrape  Romantic, stylish B&B houseboat in canal district   \n",
              "3      city scrape                            Comfortable double room   \n",
              "4      city scrape                            Comfortable single room   \n",
              "\n",
              "                                         description  \\\n",
              "0  Quiet Garden View Room & Super Fast WiFi<br />...   \n",
              "1  17th century Dutch townhouse in the heart of t...   \n",
              "2  Stylish and romantic houseboat on fantastic hi...   \n",
              "3  <b>The space</b><br />In a monumental house ri...   \n",
              "4  This room can also accomodate 2 people.  For a...   \n",
              "\n",
              "                               neighborhood_overview  \\\n",
              "0  Indische Buurt (\"Indies Neighborhood\") is a ne...   \n",
              "1  Located just in between famous central canals....   \n",
              "2         Central, quiet, safe, clean and beautiful.   \n",
              "3       Flower market , Leidseplein , Rembrantsplein   \n",
              "4  the street is quite lively especially on weeke...   \n",
              "\n",
              "                                         picture_url  host_id  ...  \\\n",
              "0  https://a0.muscache.com/pictures/10272854/8dcc...     3159  ...   \n",
              "1  https://a0.muscache.com/pictures/69979628/fd6a...    59484  ...   \n",
              "2  https://a0.muscache.com/pictures/02c2da9d-660e...    97647  ...   \n",
              "3  https://a0.muscache.com/pictures/160889/362340...   124245  ...   \n",
              "4  https://a0.muscache.com/pictures/162009/bd6be2...   124245  ...   \n",
              "\n",
              "  review_scores_communication review_scores_location review_scores_value  \\\n",
              "0                        4.98                   4.69                4.82   \n",
              "1                        4.62                   4.87                4.49   \n",
              "2                        4.92                   4.89                4.79   \n",
              "3                        4.94                   4.96                4.83   \n",
              "4                        4.92                   4.87                4.77   \n",
              "\n",
              "                    license instant_bookable calculated_host_listings_count  \\\n",
              "0  0363 5F3A 5684 6750 D14D                t                              1   \n",
              "1  0363 CBB3 2C10 0C2A 1E29                t                              2   \n",
              "2  0363 974D 4986 7411 88D8                t                              1   \n",
              "3  0363 607B EA74 0BD8 2F6F                f                              2   \n",
              "4  0363 607B EA74 0BD8 2F6F                f                              2   \n",
              "\n",
              "  calculated_host_listings_count_entire_homes  \\\n",
              "0                                           0   \n",
              "1                                           0   \n",
              "2                                           0   \n",
              "3                                           0   \n",
              "4                                           0   \n",
              "\n",
              "  calculated_host_listings_count_private_rooms  \\\n",
              "0                                            1   \n",
              "1                                            2   \n",
              "2                                            1   \n",
              "3                                            2   \n",
              "4                                            2   \n",
              "\n",
              "  calculated_host_listings_count_shared_rooms reviews_per_month  \n",
              "0                                           0              1.86  \n",
              "1                                           0              2.22  \n",
              "2                                           0              1.78  \n",
              "3                                           0              2.92  \n",
              "4                                           0              4.16  \n",
              "\n",
              "[5 rows x 75 columns]"
            ],
            "text/html": [
              "\n",
              "  <div id=\"df-db6a56c3-9e1b-40cf-9803-13e33728fc34\" class=\"colab-df-container\">\n",
              "    <div>\n",
              "<style scoped>\n",
              "    .dataframe tbody tr th:only-of-type {\n",
              "        vertical-align: middle;\n",
              "    }\n",
              "\n",
              "    .dataframe tbody tr th {\n",
              "        vertical-align: top;\n",
              "    }\n",
              "\n",
              "    .dataframe thead th {\n",
              "        text-align: right;\n",
              "    }\n",
              "</style>\n",
              "<table border=\"1\" class=\"dataframe\">\n",
              "  <thead>\n",
              "    <tr style=\"text-align: right;\">\n",
              "      <th></th>\n",
              "      <th>id</th>\n",
              "      <th>listing_url</th>\n",
              "      <th>scrape_id</th>\n",
              "      <th>last_scraped</th>\n",
              "      <th>source</th>\n",
              "      <th>name</th>\n",
              "      <th>description</th>\n",
              "      <th>neighborhood_overview</th>\n",
              "      <th>picture_url</th>\n",
              "      <th>host_id</th>\n",
              "      <th>...</th>\n",
              "      <th>review_scores_communication</th>\n",
              "      <th>review_scores_location</th>\n",
              "      <th>review_scores_value</th>\n",
              "      <th>license</th>\n",
              "      <th>instant_bookable</th>\n",
              "      <th>calculated_host_listings_count</th>\n",
              "      <th>calculated_host_listings_count_entire_homes</th>\n",
              "      <th>calculated_host_listings_count_private_rooms</th>\n",
              "      <th>calculated_host_listings_count_shared_rooms</th>\n",
              "      <th>reviews_per_month</th>\n",
              "    </tr>\n",
              "  </thead>\n",
              "  <tbody>\n",
              "    <tr>\n",
              "      <th>0</th>\n",
              "      <td>2818</td>\n",
              "      <td>https://www.airbnb.com/rooms/2818</td>\n",
              "      <td>20220907151523</td>\n",
              "      <td>2022-09-07</td>\n",
              "      <td>city scrape</td>\n",
              "      <td>Quiet Garden View Room &amp; Super Fast WiFi</td>\n",
              "      <td>Quiet Garden View Room &amp; Super Fast WiFi&lt;br /&gt;...</td>\n",
              "      <td>Indische Buurt (\"Indies Neighborhood\") is a ne...</td>\n",
              "      <td>https://a0.muscache.com/pictures/10272854/8dcc...</td>\n",
              "      <td>3159</td>\n",
              "      <td>...</td>\n",
              "      <td>4.98</td>\n",
              "      <td>4.69</td>\n",
              "      <td>4.82</td>\n",
              "      <td>0363 5F3A 5684 6750 D14D</td>\n",
              "      <td>t</td>\n",
              "      <td>1</td>\n",
              "      <td>0</td>\n",
              "      <td>1</td>\n",
              "      <td>0</td>\n",
              "      <td>1.86</td>\n",
              "    </tr>\n",
              "    <tr>\n",
              "      <th>1</th>\n",
              "      <td>20168</td>\n",
              "      <td>https://www.airbnb.com/rooms/20168</td>\n",
              "      <td>20220907151523</td>\n",
              "      <td>2022-09-07</td>\n",
              "      <td>previous scrape</td>\n",
              "      <td>Studio with private bathroom in the centre 1</td>\n",
              "      <td>17th century Dutch townhouse in the heart of t...</td>\n",
              "      <td>Located just in between famous central canals....</td>\n",
              "      <td>https://a0.muscache.com/pictures/69979628/fd6a...</td>\n",
              "      <td>59484</td>\n",
              "      <td>...</td>\n",
              "      <td>4.62</td>\n",
              "      <td>4.87</td>\n",
              "      <td>4.49</td>\n",
              "      <td>0363 CBB3 2C10 0C2A 1E29</td>\n",
              "      <td>t</td>\n",
              "      <td>2</td>\n",
              "      <td>0</td>\n",
              "      <td>2</td>\n",
              "      <td>0</td>\n",
              "      <td>2.22</td>\n",
              "    </tr>\n",
              "    <tr>\n",
              "      <th>2</th>\n",
              "      <td>27886</td>\n",
              "      <td>https://www.airbnb.com/rooms/27886</td>\n",
              "      <td>20220907151523</td>\n",
              "      <td>2022-09-07</td>\n",
              "      <td>city scrape</td>\n",
              "      <td>Romantic, stylish B&amp;B houseboat in canal district</td>\n",
              "      <td>Stylish and romantic houseboat on fantastic hi...</td>\n",
              "      <td>Central, quiet, safe, clean and beautiful.</td>\n",
              "      <td>https://a0.muscache.com/pictures/02c2da9d-660e...</td>\n",
              "      <td>97647</td>\n",
              "      <td>...</td>\n",
              "      <td>4.92</td>\n",
              "      <td>4.89</td>\n",
              "      <td>4.79</td>\n",
              "      <td>0363 974D 4986 7411 88D8</td>\n",
              "      <td>t</td>\n",
              "      <td>1</td>\n",
              "      <td>0</td>\n",
              "      <td>1</td>\n",
              "      <td>0</td>\n",
              "      <td>1.78</td>\n",
              "    </tr>\n",
              "    <tr>\n",
              "      <th>3</th>\n",
              "      <td>28871</td>\n",
              "      <td>https://www.airbnb.com/rooms/28871</td>\n",
              "      <td>20220907151523</td>\n",
              "      <td>2022-09-07</td>\n",
              "      <td>city scrape</td>\n",
              "      <td>Comfortable double room</td>\n",
              "      <td>&lt;b&gt;The space&lt;/b&gt;&lt;br /&gt;In a monumental house ri...</td>\n",
              "      <td>Flower market , Leidseplein , Rembrantsplein</td>\n",
              "      <td>https://a0.muscache.com/pictures/160889/362340...</td>\n",
              "      <td>124245</td>\n",
              "      <td>...</td>\n",
              "      <td>4.94</td>\n",
              "      <td>4.96</td>\n",
              "      <td>4.83</td>\n",
              "      <td>0363 607B EA74 0BD8 2F6F</td>\n",
              "      <td>f</td>\n",
              "      <td>2</td>\n",
              "      <td>0</td>\n",
              "      <td>2</td>\n",
              "      <td>0</td>\n",
              "      <td>2.92</td>\n",
              "    </tr>\n",
              "    <tr>\n",
              "      <th>4</th>\n",
              "      <td>29051</td>\n",
              "      <td>https://www.airbnb.com/rooms/29051</td>\n",
              "      <td>20220907151523</td>\n",
              "      <td>2022-09-07</td>\n",
              "      <td>city scrape</td>\n",
              "      <td>Comfortable single room</td>\n",
              "      <td>This room can also accomodate 2 people.  For a...</td>\n",
              "      <td>the street is quite lively especially on weeke...</td>\n",
              "      <td>https://a0.muscache.com/pictures/162009/bd6be2...</td>\n",
              "      <td>124245</td>\n",
              "      <td>...</td>\n",
              "      <td>4.92</td>\n",
              "      <td>4.87</td>\n",
              "      <td>4.77</td>\n",
              "      <td>0363 607B EA74 0BD8 2F6F</td>\n",
              "      <td>f</td>\n",
              "      <td>2</td>\n",
              "      <td>0</td>\n",
              "      <td>2</td>\n",
              "      <td>0</td>\n",
              "      <td>4.16</td>\n",
              "    </tr>\n",
              "  </tbody>\n",
              "</table>\n",
              "<p>5 rows × 75 columns</p>\n",
              "</div>\n",
              "    <div class=\"colab-df-buttons\">\n",
              "\n",
              "  <div class=\"colab-df-container\">\n",
              "    <button class=\"colab-df-convert\" onclick=\"convertToInteractive('df-db6a56c3-9e1b-40cf-9803-13e33728fc34')\"\n",
              "            title=\"Convert this dataframe to an interactive table.\"\n",
              "            style=\"display:none;\">\n",
              "\n",
              "  <svg xmlns=\"http://www.w3.org/2000/svg\" height=\"24px\" viewBox=\"0 -960 960 960\">\n",
              "    <path d=\"M120-120v-720h720v720H120Zm60-500h600v-160H180v160Zm220 220h160v-160H400v160Zm0 220h160v-160H400v160ZM180-400h160v-160H180v160Zm440 0h160v-160H620v160ZM180-180h160v-160H180v160Zm440 0h160v-160H620v160Z\"/>\n",
              "  </svg>\n",
              "    </button>\n",
              "\n",
              "  <style>\n",
              "    .colab-df-container {\n",
              "      display:flex;\n",
              "      gap: 12px;\n",
              "    }\n",
              "\n",
              "    .colab-df-convert {\n",
              "      background-color: #E8F0FE;\n",
              "      border: none;\n",
              "      border-radius: 50%;\n",
              "      cursor: pointer;\n",
              "      display: none;\n",
              "      fill: #1967D2;\n",
              "      height: 32px;\n",
              "      padding: 0 0 0 0;\n",
              "      width: 32px;\n",
              "    }\n",
              "\n",
              "    .colab-df-convert:hover {\n",
              "      background-color: #E2EBFA;\n",
              "      box-shadow: 0px 1px 2px rgba(60, 64, 67, 0.3), 0px 1px 3px 1px rgba(60, 64, 67, 0.15);\n",
              "      fill: #174EA6;\n",
              "    }\n",
              "\n",
              "    .colab-df-buttons div {\n",
              "      margin-bottom: 4px;\n",
              "    }\n",
              "\n",
              "    [theme=dark] .colab-df-convert {\n",
              "      background-color: #3B4455;\n",
              "      fill: #D2E3FC;\n",
              "    }\n",
              "\n",
              "    [theme=dark] .colab-df-convert:hover {\n",
              "      background-color: #434B5C;\n",
              "      box-shadow: 0px 1px 3px 1px rgba(0, 0, 0, 0.15);\n",
              "      filter: drop-shadow(0px 1px 2px rgba(0, 0, 0, 0.3));\n",
              "      fill: #FFFFFF;\n",
              "    }\n",
              "  </style>\n",
              "\n",
              "    <script>\n",
              "      const buttonEl =\n",
              "        document.querySelector('#df-db6a56c3-9e1b-40cf-9803-13e33728fc34 button.colab-df-convert');\n",
              "      buttonEl.style.display =\n",
              "        google.colab.kernel.accessAllowed ? 'block' : 'none';\n",
              "\n",
              "      async function convertToInteractive(key) {\n",
              "        const element = document.querySelector('#df-db6a56c3-9e1b-40cf-9803-13e33728fc34');\n",
              "        const dataTable =\n",
              "          await google.colab.kernel.invokeFunction('convertToInteractive',\n",
              "                                                    [key], {});\n",
              "        if (!dataTable) return;\n",
              "\n",
              "        const docLinkHtml = 'Like what you see? Visit the ' +\n",
              "          '<a target=\"_blank\" href=https://colab.research.google.com/notebooks/data_table.ipynb>data table notebook</a>'\n",
              "          + ' to learn more about interactive tables.';\n",
              "        element.innerHTML = '';\n",
              "        dataTable['output_type'] = 'display_data';\n",
              "        await google.colab.output.renderOutput(dataTable, element);\n",
              "        const docLink = document.createElement('div');\n",
              "        docLink.innerHTML = docLinkHtml;\n",
              "        element.appendChild(docLink);\n",
              "      }\n",
              "    </script>\n",
              "  </div>\n",
              "\n",
              "\n",
              "<div id=\"df-836080b0-fba4-472a-a224-edeb4f90a0c8\">\n",
              "  <button class=\"colab-df-quickchart\" onclick=\"quickchart('df-836080b0-fba4-472a-a224-edeb4f90a0c8')\"\n",
              "            title=\"Suggest charts\"\n",
              "            style=\"display:none;\">\n",
              "\n",
              "<svg xmlns=\"http://www.w3.org/2000/svg\" height=\"24px\"viewBox=\"0 0 24 24\"\n",
              "     width=\"24px\">\n",
              "    <g>\n",
              "        <path d=\"M19 3H5c-1.1 0-2 .9-2 2v14c0 1.1.9 2 2 2h14c1.1 0 2-.9 2-2V5c0-1.1-.9-2-2-2zM9 17H7v-7h2v7zm4 0h-2V7h2v10zm4 0h-2v-4h2v4z\"/>\n",
              "    </g>\n",
              "</svg>\n",
              "  </button>\n",
              "\n",
              "<style>\n",
              "  .colab-df-quickchart {\n",
              "      --bg-color: #E8F0FE;\n",
              "      --fill-color: #1967D2;\n",
              "      --hover-bg-color: #E2EBFA;\n",
              "      --hover-fill-color: #174EA6;\n",
              "      --disabled-fill-color: #AAA;\n",
              "      --disabled-bg-color: #DDD;\n",
              "  }\n",
              "\n",
              "  [theme=dark] .colab-df-quickchart {\n",
              "      --bg-color: #3B4455;\n",
              "      --fill-color: #D2E3FC;\n",
              "      --hover-bg-color: #434B5C;\n",
              "      --hover-fill-color: #FFFFFF;\n",
              "      --disabled-bg-color: #3B4455;\n",
              "      --disabled-fill-color: #666;\n",
              "  }\n",
              "\n",
              "  .colab-df-quickchart {\n",
              "    background-color: var(--bg-color);\n",
              "    border: none;\n",
              "    border-radius: 50%;\n",
              "    cursor: pointer;\n",
              "    display: none;\n",
              "    fill: var(--fill-color);\n",
              "    height: 32px;\n",
              "    padding: 0;\n",
              "    width: 32px;\n",
              "  }\n",
              "\n",
              "  .colab-df-quickchart:hover {\n",
              "    background-color: var(--hover-bg-color);\n",
              "    box-shadow: 0 1px 2px rgba(60, 64, 67, 0.3), 0 1px 3px 1px rgba(60, 64, 67, 0.15);\n",
              "    fill: var(--button-hover-fill-color);\n",
              "  }\n",
              "\n",
              "  .colab-df-quickchart-complete:disabled,\n",
              "  .colab-df-quickchart-complete:disabled:hover {\n",
              "    background-color: var(--disabled-bg-color);\n",
              "    fill: var(--disabled-fill-color);\n",
              "    box-shadow: none;\n",
              "  }\n",
              "\n",
              "  .colab-df-spinner {\n",
              "    border: 2px solid var(--fill-color);\n",
              "    border-color: transparent;\n",
              "    border-bottom-color: var(--fill-color);\n",
              "    animation:\n",
              "      spin 1s steps(1) infinite;\n",
              "  }\n",
              "\n",
              "  @keyframes spin {\n",
              "    0% {\n",
              "      border-color: transparent;\n",
              "      border-bottom-color: var(--fill-color);\n",
              "      border-left-color: var(--fill-color);\n",
              "    }\n",
              "    20% {\n",
              "      border-color: transparent;\n",
              "      border-left-color: var(--fill-color);\n",
              "      border-top-color: var(--fill-color);\n",
              "    }\n",
              "    30% {\n",
              "      border-color: transparent;\n",
              "      border-left-color: var(--fill-color);\n",
              "      border-top-color: var(--fill-color);\n",
              "      border-right-color: var(--fill-color);\n",
              "    }\n",
              "    40% {\n",
              "      border-color: transparent;\n",
              "      border-right-color: var(--fill-color);\n",
              "      border-top-color: var(--fill-color);\n",
              "    }\n",
              "    60% {\n",
              "      border-color: transparent;\n",
              "      border-right-color: var(--fill-color);\n",
              "    }\n",
              "    80% {\n",
              "      border-color: transparent;\n",
              "      border-right-color: var(--fill-color);\n",
              "      border-bottom-color: var(--fill-color);\n",
              "    }\n",
              "    90% {\n",
              "      border-color: transparent;\n",
              "      border-bottom-color: var(--fill-color);\n",
              "    }\n",
              "  }\n",
              "</style>\n",
              "\n",
              "  <script>\n",
              "    async function quickchart(key) {\n",
              "      const quickchartButtonEl =\n",
              "        document.querySelector('#' + key + ' button');\n",
              "      quickchartButtonEl.disabled = true;  // To prevent multiple clicks.\n",
              "      quickchartButtonEl.classList.add('colab-df-spinner');\n",
              "      try {\n",
              "        const charts = await google.colab.kernel.invokeFunction(\n",
              "            'suggestCharts', [key], {});\n",
              "      } catch (error) {\n",
              "        console.error('Error during call to suggestCharts:', error);\n",
              "      }\n",
              "      quickchartButtonEl.classList.remove('colab-df-spinner');\n",
              "      quickchartButtonEl.classList.add('colab-df-quickchart-complete');\n",
              "    }\n",
              "    (() => {\n",
              "      let quickchartButtonEl =\n",
              "        document.querySelector('#df-836080b0-fba4-472a-a224-edeb4f90a0c8 button');\n",
              "      quickchartButtonEl.style.display =\n",
              "        google.colab.kernel.accessAllowed ? 'block' : 'none';\n",
              "    })();\n",
              "  </script>\n",
              "</div>\n",
              "    </div>\n",
              "  </div>\n"
            ],
            "application/vnd.google.colaboratory.intrinsic+json": {
              "type": "dataframe",
              "variable_name": "listings"
            }
          },
          "metadata": {},
          "execution_count": 38
        }
      ]
    },
    {
      "cell_type": "markdown",
      "source": [
        "---\n",
        "## **1. Identify and Handling Missing Values**"
      ],
      "metadata": {
        "id": "nJKwfTNWMd8P"
      }
    },
    {
      "cell_type": "markdown",
      "source": [
        "* Salah satu permasalahan yang sering muncul, yaitu adanya missing value pada data.\n",
        "* Dalam notebook ini, kolom yang memiliki persentase missing value lebih dari 90% akan dihapus dari dataset.\n",
        "* Sebelum melakukannya, terlebih dahulu akan kita identifikasi kolom yang memiliki missing value."
      ],
      "metadata": {
        "id": "DDRjcYGtMg4l"
      }
    },
    {
      "cell_type": "code",
      "source": [
        "# Mengubah setting display kolom maksimum dari pandas dataframe\n",
        "pd.set_option('display.max_rows', len(listings.columns))"
      ],
      "metadata": {
        "id": "RiEZcAfgMbMe"
      },
      "execution_count": 39,
      "outputs": []
    },
    {
      "cell_type": "code",
      "source": [
        "# Mendapatkan jumlah missing value tiap kolom\n",
        "# dan mengurutkan dari yang terbesar ke terkecil\n",
        "non_col = listings.isna().sum().sort_values(ascending = False)\n",
        "\n",
        "# tampilkan\n",
        "non_col"
      ],
      "metadata": {
        "colab": {
          "base_uri": "https://localhost:8080/"
        },
        "id": "Kayuzf6pM4QL",
        "outputId": "873851a5-15ca-4d5b-a114-9e607631f5c9"
      },
      "execution_count": 40,
      "outputs": [
        {
          "output_type": "execute_result",
          "data": {
            "text/plain": [
              "bathrooms                                       6893\n",
              "neighbourhood_group_cleansed                    6893\n",
              "calendar_updated                                6893\n",
              "host_neighbourhood                              3797\n",
              "host_about                                      2761\n",
              "neighbourhood                                   2265\n",
              "neighborhood_overview                           2265\n",
              "host_response_time                              1657\n",
              "host_response_rate                              1657\n",
              "host_acceptance_rate                             862\n",
              "host_location                                    771\n",
              "review_scores_accuracy                           651\n",
              "review_scores_checkin                            651\n",
              "review_scores_communication                      651\n",
              "review_scores_location                           651\n",
              "review_scores_value                              651\n",
              "review_scores_cleanliness                        651\n",
              "reviews_per_month                                646\n",
              "first_review                                     646\n",
              "review_scores_rating                             646\n",
              "last_review                                      646\n",
              "license                                          444\n",
              "bedrooms                                         315\n",
              "beds                                             101\n",
              "description                                       16\n",
              "bathrooms_text                                    15\n",
              "host_is_superhost                                  8\n",
              "maximum_nights_avg_ntm                             2\n",
              "minimum_nights_avg_ntm                             2\n",
              "maximum_maximum_nights                             2\n",
              "minimum_maximum_nights                             2\n",
              "maximum_minimum_nights                             2\n",
              "minimum_minimum_nights                             2\n",
              "calculated_host_listings_count_entire_homes        0\n",
              "calculated_host_listings_count                     0\n",
              "calendar_last_scraped                              0\n",
              "number_of_reviews                                  0\n",
              "number_of_reviews_ltm                              0\n",
              "number_of_reviews_l30d                             0\n",
              "host_since                                         0\n",
              "host_name                                          0\n",
              "host_url                                           0\n",
              "availability_90                                    0\n",
              "host_id                                            0\n",
              "calculated_host_listings_count_shared_rooms        0\n",
              "picture_url                                        0\n",
              "calculated_host_listings_count_private_rooms       0\n",
              "name                                               0\n",
              "source                                             0\n",
              "last_scraped                                       0\n",
              "scrape_id                                          0\n",
              "instant_bookable                                   0\n",
              "availability_365                                   0\n",
              "host_total_listings_count                          0\n",
              "availability_60                                    0\n",
              "room_type                                          0\n",
              "host_has_profile_pic                               0\n",
              "host_identity_verified                             0\n",
              "host_listings_count                                0\n",
              "neighbourhood_cleansed                             0\n",
              "host_picture_url                                   0\n",
              "latitude                                           0\n",
              "longitude                                          0\n",
              "property_type                                      0\n",
              "accommodates                                       0\n",
              "availability_30                                    0\n",
              "host_thumbnail_url                                 0\n",
              "listing_url                                        0\n",
              "amenities                                          0\n",
              "price                                              0\n",
              "minimum_nights                                     0\n",
              "maximum_nights                                     0\n",
              "host_verifications                                 0\n",
              "has_availability                                   0\n",
              "id                                                 0\n",
              "dtype: int64"
            ]
          },
          "metadata": {},
          "execution_count": 40
        }
      ]
    },
    {
      "cell_type": "code",
      "source": [
        "# Mendapatkan persentase missing value tiap kolom\n",
        "n_data = len(listings)\n",
        "\n",
        "percent_nan_col = (non_col/n_data) * 100\n",
        "percent_nan_col"
      ],
      "metadata": {
        "colab": {
          "base_uri": "https://localhost:8080/"
        },
        "id": "RX72yKCENGza",
        "outputId": "cae86e61-14e0-47f4-e8ce-429f2c7d79d7"
      },
      "execution_count": 42,
      "outputs": [
        {
          "output_type": "execute_result",
          "data": {
            "text/plain": [
              "bathrooms                                       100.000000\n",
              "neighbourhood_group_cleansed                    100.000000\n",
              "calendar_updated                                100.000000\n",
              "host_neighbourhood                               55.084869\n",
              "host_about                                       40.055128\n",
              "neighbourhood                                    32.859423\n",
              "neighborhood_overview                            32.859423\n",
              "host_response_time                               24.038880\n",
              "host_response_rate                               24.038880\n",
              "host_acceptance_rate                             12.505440\n",
              "host_location                                    11.185260\n",
              "review_scores_accuracy                            9.444364\n",
              "review_scores_checkin                             9.444364\n",
              "review_scores_communication                       9.444364\n",
              "review_scores_location                            9.444364\n",
              "review_scores_value                               9.444364\n",
              "review_scores_cleanliness                         9.444364\n",
              "reviews_per_month                                 9.371826\n",
              "first_review                                      9.371826\n",
              "review_scores_rating                              9.371826\n",
              "last_review                                       9.371826\n",
              "license                                           6.441317\n",
              "bedrooms                                          4.569853\n",
              "beds                                              1.465255\n",
              "description                                       0.232120\n",
              "bathrooms_text                                    0.217612\n",
              "host_is_superhost                                 0.116060\n",
              "maximum_nights_avg_ntm                            0.029015\n",
              "minimum_nights_avg_ntm                            0.029015\n",
              "maximum_maximum_nights                            0.029015\n",
              "minimum_maximum_nights                            0.029015\n",
              "maximum_minimum_nights                            0.029015\n",
              "minimum_minimum_nights                            0.029015\n",
              "calculated_host_listings_count_entire_homes       0.000000\n",
              "calculated_host_listings_count                    0.000000\n",
              "calendar_last_scraped                             0.000000\n",
              "number_of_reviews                                 0.000000\n",
              "number_of_reviews_ltm                             0.000000\n",
              "number_of_reviews_l30d                            0.000000\n",
              "host_since                                        0.000000\n",
              "host_name                                         0.000000\n",
              "host_url                                          0.000000\n",
              "availability_90                                   0.000000\n",
              "host_id                                           0.000000\n",
              "calculated_host_listings_count_shared_rooms       0.000000\n",
              "picture_url                                       0.000000\n",
              "calculated_host_listings_count_private_rooms      0.000000\n",
              "name                                              0.000000\n",
              "source                                            0.000000\n",
              "last_scraped                                      0.000000\n",
              "scrape_id                                         0.000000\n",
              "instant_bookable                                  0.000000\n",
              "availability_365                                  0.000000\n",
              "host_total_listings_count                         0.000000\n",
              "availability_60                                   0.000000\n",
              "room_type                                         0.000000\n",
              "host_has_profile_pic                              0.000000\n",
              "host_identity_verified                            0.000000\n",
              "host_listings_count                               0.000000\n",
              "neighbourhood_cleansed                            0.000000\n",
              "host_picture_url                                  0.000000\n",
              "latitude                                          0.000000\n",
              "longitude                                         0.000000\n",
              "property_type                                     0.000000\n",
              "accommodates                                      0.000000\n",
              "availability_30                                   0.000000\n",
              "host_thumbnail_url                                0.000000\n",
              "listing_url                                       0.000000\n",
              "amenities                                         0.000000\n",
              "price                                             0.000000\n",
              "minimum_nights                                    0.000000\n",
              "maximum_nights                                    0.000000\n",
              "host_verifications                                0.000000\n",
              "has_availability                                  0.000000\n",
              "id                                                0.000000\n",
              "dtype: float64"
            ]
          },
          "metadata": {},
          "execution_count": 42
        }
      ]
    },
    {
      "cell_type": "markdown",
      "source": [
        "Buat dalam bentuk dataframe"
      ],
      "metadata": {
        "id": "s1SD8H0OON4y"
      }
    },
    {
      "cell_type": "code",
      "source": [
        "# Buat dalam bentuk dataframe\n",
        "column_contain_nan = pd.DataFrame(percent_nan_col[percent_nan_col > 0],\n",
        "                                  columns = ['%nan'])\n",
        "\n",
        "column_contain_nan.head(15)"
      ],
      "metadata": {
        "colab": {
          "base_uri": "https://localhost:8080/",
          "height": 519
        },
        "id": "PfUP6vWKN_dZ",
        "outputId": "2fc51243-69d3-4f10-c3b1-f74bab15f32c"
      },
      "execution_count": 43,
      "outputs": [
        {
          "output_type": "execute_result",
          "data": {
            "text/plain": [
              "                                    %nan\n",
              "bathrooms                     100.000000\n",
              "neighbourhood_group_cleansed  100.000000\n",
              "calendar_updated              100.000000\n",
              "host_neighbourhood             55.084869\n",
              "host_about                     40.055128\n",
              "neighbourhood                  32.859423\n",
              "neighborhood_overview          32.859423\n",
              "host_response_time             24.038880\n",
              "host_response_rate             24.038880\n",
              "host_acceptance_rate           12.505440\n",
              "host_location                  11.185260\n",
              "review_scores_accuracy          9.444364\n",
              "review_scores_checkin           9.444364\n",
              "review_scores_communication     9.444364\n",
              "review_scores_location          9.444364"
            ],
            "text/html": [
              "\n",
              "  <div id=\"df-3c2f2892-44a1-4989-951e-2e10e3fa9ddb\" class=\"colab-df-container\">\n",
              "    <div>\n",
              "<style scoped>\n",
              "    .dataframe tbody tr th:only-of-type {\n",
              "        vertical-align: middle;\n",
              "    }\n",
              "\n",
              "    .dataframe tbody tr th {\n",
              "        vertical-align: top;\n",
              "    }\n",
              "\n",
              "    .dataframe thead th {\n",
              "        text-align: right;\n",
              "    }\n",
              "</style>\n",
              "<table border=\"1\" class=\"dataframe\">\n",
              "  <thead>\n",
              "    <tr style=\"text-align: right;\">\n",
              "      <th></th>\n",
              "      <th>%nan</th>\n",
              "    </tr>\n",
              "  </thead>\n",
              "  <tbody>\n",
              "    <tr>\n",
              "      <th>bathrooms</th>\n",
              "      <td>100.000000</td>\n",
              "    </tr>\n",
              "    <tr>\n",
              "      <th>neighbourhood_group_cleansed</th>\n",
              "      <td>100.000000</td>\n",
              "    </tr>\n",
              "    <tr>\n",
              "      <th>calendar_updated</th>\n",
              "      <td>100.000000</td>\n",
              "    </tr>\n",
              "    <tr>\n",
              "      <th>host_neighbourhood</th>\n",
              "      <td>55.084869</td>\n",
              "    </tr>\n",
              "    <tr>\n",
              "      <th>host_about</th>\n",
              "      <td>40.055128</td>\n",
              "    </tr>\n",
              "    <tr>\n",
              "      <th>neighbourhood</th>\n",
              "      <td>32.859423</td>\n",
              "    </tr>\n",
              "    <tr>\n",
              "      <th>neighborhood_overview</th>\n",
              "      <td>32.859423</td>\n",
              "    </tr>\n",
              "    <tr>\n",
              "      <th>host_response_time</th>\n",
              "      <td>24.038880</td>\n",
              "    </tr>\n",
              "    <tr>\n",
              "      <th>host_response_rate</th>\n",
              "      <td>24.038880</td>\n",
              "    </tr>\n",
              "    <tr>\n",
              "      <th>host_acceptance_rate</th>\n",
              "      <td>12.505440</td>\n",
              "    </tr>\n",
              "    <tr>\n",
              "      <th>host_location</th>\n",
              "      <td>11.185260</td>\n",
              "    </tr>\n",
              "    <tr>\n",
              "      <th>review_scores_accuracy</th>\n",
              "      <td>9.444364</td>\n",
              "    </tr>\n",
              "    <tr>\n",
              "      <th>review_scores_checkin</th>\n",
              "      <td>9.444364</td>\n",
              "    </tr>\n",
              "    <tr>\n",
              "      <th>review_scores_communication</th>\n",
              "      <td>9.444364</td>\n",
              "    </tr>\n",
              "    <tr>\n",
              "      <th>review_scores_location</th>\n",
              "      <td>9.444364</td>\n",
              "    </tr>\n",
              "  </tbody>\n",
              "</table>\n",
              "</div>\n",
              "    <div class=\"colab-df-buttons\">\n",
              "\n",
              "  <div class=\"colab-df-container\">\n",
              "    <button class=\"colab-df-convert\" onclick=\"convertToInteractive('df-3c2f2892-44a1-4989-951e-2e10e3fa9ddb')\"\n",
              "            title=\"Convert this dataframe to an interactive table.\"\n",
              "            style=\"display:none;\">\n",
              "\n",
              "  <svg xmlns=\"http://www.w3.org/2000/svg\" height=\"24px\" viewBox=\"0 -960 960 960\">\n",
              "    <path d=\"M120-120v-720h720v720H120Zm60-500h600v-160H180v160Zm220 220h160v-160H400v160Zm0 220h160v-160H400v160ZM180-400h160v-160H180v160Zm440 0h160v-160H620v160ZM180-180h160v-160H180v160Zm440 0h160v-160H620v160Z\"/>\n",
              "  </svg>\n",
              "    </button>\n",
              "\n",
              "  <style>\n",
              "    .colab-df-container {\n",
              "      display:flex;\n",
              "      gap: 12px;\n",
              "    }\n",
              "\n",
              "    .colab-df-convert {\n",
              "      background-color: #E8F0FE;\n",
              "      border: none;\n",
              "      border-radius: 50%;\n",
              "      cursor: pointer;\n",
              "      display: none;\n",
              "      fill: #1967D2;\n",
              "      height: 32px;\n",
              "      padding: 0 0 0 0;\n",
              "      width: 32px;\n",
              "    }\n",
              "\n",
              "    .colab-df-convert:hover {\n",
              "      background-color: #E2EBFA;\n",
              "      box-shadow: 0px 1px 2px rgba(60, 64, 67, 0.3), 0px 1px 3px 1px rgba(60, 64, 67, 0.15);\n",
              "      fill: #174EA6;\n",
              "    }\n",
              "\n",
              "    .colab-df-buttons div {\n",
              "      margin-bottom: 4px;\n",
              "    }\n",
              "\n",
              "    [theme=dark] .colab-df-convert {\n",
              "      background-color: #3B4455;\n",
              "      fill: #D2E3FC;\n",
              "    }\n",
              "\n",
              "    [theme=dark] .colab-df-convert:hover {\n",
              "      background-color: #434B5C;\n",
              "      box-shadow: 0px 1px 3px 1px rgba(0, 0, 0, 0.15);\n",
              "      filter: drop-shadow(0px 1px 2px rgba(0, 0, 0, 0.3));\n",
              "      fill: #FFFFFF;\n",
              "    }\n",
              "  </style>\n",
              "\n",
              "    <script>\n",
              "      const buttonEl =\n",
              "        document.querySelector('#df-3c2f2892-44a1-4989-951e-2e10e3fa9ddb button.colab-df-convert');\n",
              "      buttonEl.style.display =\n",
              "        google.colab.kernel.accessAllowed ? 'block' : 'none';\n",
              "\n",
              "      async function convertToInteractive(key) {\n",
              "        const element = document.querySelector('#df-3c2f2892-44a1-4989-951e-2e10e3fa9ddb');\n",
              "        const dataTable =\n",
              "          await google.colab.kernel.invokeFunction('convertToInteractive',\n",
              "                                                    [key], {});\n",
              "        if (!dataTable) return;\n",
              "\n",
              "        const docLinkHtml = 'Like what you see? Visit the ' +\n",
              "          '<a target=\"_blank\" href=https://colab.research.google.com/notebooks/data_table.ipynb>data table notebook</a>'\n",
              "          + ' to learn more about interactive tables.';\n",
              "        element.innerHTML = '';\n",
              "        dataTable['output_type'] = 'display_data';\n",
              "        await google.colab.output.renderOutput(dataTable, element);\n",
              "        const docLink = document.createElement('div');\n",
              "        docLink.innerHTML = docLinkHtml;\n",
              "        element.appendChild(docLink);\n",
              "      }\n",
              "    </script>\n",
              "  </div>\n",
              "\n",
              "\n",
              "<div id=\"df-486f878b-17ea-4a39-b496-b4aa242b5ae8\">\n",
              "  <button class=\"colab-df-quickchart\" onclick=\"quickchart('df-486f878b-17ea-4a39-b496-b4aa242b5ae8')\"\n",
              "            title=\"Suggest charts\"\n",
              "            style=\"display:none;\">\n",
              "\n",
              "<svg xmlns=\"http://www.w3.org/2000/svg\" height=\"24px\"viewBox=\"0 0 24 24\"\n",
              "     width=\"24px\">\n",
              "    <g>\n",
              "        <path d=\"M19 3H5c-1.1 0-2 .9-2 2v14c0 1.1.9 2 2 2h14c1.1 0 2-.9 2-2V5c0-1.1-.9-2-2-2zM9 17H7v-7h2v7zm4 0h-2V7h2v10zm4 0h-2v-4h2v4z\"/>\n",
              "    </g>\n",
              "</svg>\n",
              "  </button>\n",
              "\n",
              "<style>\n",
              "  .colab-df-quickchart {\n",
              "      --bg-color: #E8F0FE;\n",
              "      --fill-color: #1967D2;\n",
              "      --hover-bg-color: #E2EBFA;\n",
              "      --hover-fill-color: #174EA6;\n",
              "      --disabled-fill-color: #AAA;\n",
              "      --disabled-bg-color: #DDD;\n",
              "  }\n",
              "\n",
              "  [theme=dark] .colab-df-quickchart {\n",
              "      --bg-color: #3B4455;\n",
              "      --fill-color: #D2E3FC;\n",
              "      --hover-bg-color: #434B5C;\n",
              "      --hover-fill-color: #FFFFFF;\n",
              "      --disabled-bg-color: #3B4455;\n",
              "      --disabled-fill-color: #666;\n",
              "  }\n",
              "\n",
              "  .colab-df-quickchart {\n",
              "    background-color: var(--bg-color);\n",
              "    border: none;\n",
              "    border-radius: 50%;\n",
              "    cursor: pointer;\n",
              "    display: none;\n",
              "    fill: var(--fill-color);\n",
              "    height: 32px;\n",
              "    padding: 0;\n",
              "    width: 32px;\n",
              "  }\n",
              "\n",
              "  .colab-df-quickchart:hover {\n",
              "    background-color: var(--hover-bg-color);\n",
              "    box-shadow: 0 1px 2px rgba(60, 64, 67, 0.3), 0 1px 3px 1px rgba(60, 64, 67, 0.15);\n",
              "    fill: var(--button-hover-fill-color);\n",
              "  }\n",
              "\n",
              "  .colab-df-quickchart-complete:disabled,\n",
              "  .colab-df-quickchart-complete:disabled:hover {\n",
              "    background-color: var(--disabled-bg-color);\n",
              "    fill: var(--disabled-fill-color);\n",
              "    box-shadow: none;\n",
              "  }\n",
              "\n",
              "  .colab-df-spinner {\n",
              "    border: 2px solid var(--fill-color);\n",
              "    border-color: transparent;\n",
              "    border-bottom-color: var(--fill-color);\n",
              "    animation:\n",
              "      spin 1s steps(1) infinite;\n",
              "  }\n",
              "\n",
              "  @keyframes spin {\n",
              "    0% {\n",
              "      border-color: transparent;\n",
              "      border-bottom-color: var(--fill-color);\n",
              "      border-left-color: var(--fill-color);\n",
              "    }\n",
              "    20% {\n",
              "      border-color: transparent;\n",
              "      border-left-color: var(--fill-color);\n",
              "      border-top-color: var(--fill-color);\n",
              "    }\n",
              "    30% {\n",
              "      border-color: transparent;\n",
              "      border-left-color: var(--fill-color);\n",
              "      border-top-color: var(--fill-color);\n",
              "      border-right-color: var(--fill-color);\n",
              "    }\n",
              "    40% {\n",
              "      border-color: transparent;\n",
              "      border-right-color: var(--fill-color);\n",
              "      border-top-color: var(--fill-color);\n",
              "    }\n",
              "    60% {\n",
              "      border-color: transparent;\n",
              "      border-right-color: var(--fill-color);\n",
              "    }\n",
              "    80% {\n",
              "      border-color: transparent;\n",
              "      border-right-color: var(--fill-color);\n",
              "      border-bottom-color: var(--fill-color);\n",
              "    }\n",
              "    90% {\n",
              "      border-color: transparent;\n",
              "      border-bottom-color: var(--fill-color);\n",
              "    }\n",
              "  }\n",
              "</style>\n",
              "\n",
              "  <script>\n",
              "    async function quickchart(key) {\n",
              "      const quickchartButtonEl =\n",
              "        document.querySelector('#' + key + ' button');\n",
              "      quickchartButtonEl.disabled = true;  // To prevent multiple clicks.\n",
              "      quickchartButtonEl.classList.add('colab-df-spinner');\n",
              "      try {\n",
              "        const charts = await google.colab.kernel.invokeFunction(\n",
              "            'suggestCharts', [key], {});\n",
              "      } catch (error) {\n",
              "        console.error('Error during call to suggestCharts:', error);\n",
              "      }\n",
              "      quickchartButtonEl.classList.remove('colab-df-spinner');\n",
              "      quickchartButtonEl.classList.add('colab-df-quickchart-complete');\n",
              "    }\n",
              "    (() => {\n",
              "      let quickchartButtonEl =\n",
              "        document.querySelector('#df-486f878b-17ea-4a39-b496-b4aa242b5ae8 button');\n",
              "      quickchartButtonEl.style.display =\n",
              "        google.colab.kernel.accessAllowed ? 'block' : 'none';\n",
              "    })();\n",
              "  </script>\n",
              "</div>\n",
              "    </div>\n",
              "  </div>\n"
            ],
            "application/vnd.google.colaboratory.intrinsic+json": {
              "type": "dataframe",
              "variable_name": "column_contain_nan",
              "summary": "{\n  \"name\": \"column_contain_nan\",\n  \"rows\": 33,\n  \"fields\": [\n    {\n      \"column\": \"%nan\",\n      \"properties\": {\n        \"dtype\": \"number\",\n        \"std\": 28.92587711272223,\n        \"min\": 0.02901494269548818,\n        \"max\": 100.0,\n        \"num_unique_values\": 16,\n        \"samples\": [\n          100.0,\n          55.0848687073843,\n          12.505440301755405\n        ],\n        \"semantic_type\": \"\",\n        \"description\": \"\"\n      }\n    }\n  ]\n}"
            }
          },
          "metadata": {},
          "execution_count": 43
        }
      ]
    },
    {
      "cell_type": "markdown",
      "source": [
        "Kurang intuitif? **Ayo kita visualkan**"
      ],
      "metadata": {
        "id": "EGIexVC7OlVi"
      }
    },
    {
      "cell_type": "code",
      "source": [
        "# Buat figure\n",
        "fig, ax = plt.subplots(figsize = (10, 16))\n",
        "\n",
        "# Menambahkan title pada figure\n",
        "fig.suptitle('Mendapatkan persentase missing value tiap kolom',\n",
        "             fontsize = 20)\n",
        "\n",
        "# Buat barplot persentase NaN tiap kolom\n",
        "sns.barplot(data = column_contain_nan.T,\n",
        "            orient = 'h',\n",
        "            ax = ax)\n",
        "\n",
        "plt.show()"
      ],
      "metadata": {
        "colab": {
          "base_uri": "https://localhost:8080/",
          "height": 919
        },
        "id": "mio3fdQdOh8U",
        "outputId": "0a2a32f7-1efc-4944-b00a-7f883eedca1f"
      },
      "execution_count": 48,
      "outputs": [
        {
          "output_type": "display_data",
          "data": {
            "text/plain": [
              "<Figure size 1000x1600 with 1 Axes>"
            ],
            "image/png": "[encoded data removed]"
          },
          "metadata": {}
        }
      ]
    },
    {
      "cell_type": "markdown",
      "source": [
        "- Oke, sekarang sudah lebih intuitif\n",
        "- Next, terlihat beberapa kolom memiliki persentase missing value lebih dari 90%\n",
        "- Ini coba kita drop"
      ],
      "metadata": {
        "id": "NPwa6P-9PVhF"
      }
    },
    {
      "cell_type": "code",
      "source": [
        "# Cari kolom yang persentase missing valuenya lebih dari 90%\n",
        "nan_col_abv90 = percent_nan_col[percent_nan_col > 90].index\n",
        "nan_col_abv90"
      ],
      "metadata": {
        "colab": {
          "base_uri": "https://localhost:8080/"
        },
        "id": "ueKn2DPuO5Gs",
        "outputId": "e1a7cef8-2949-461a-df52-f730c5953cb5"
      },
      "execution_count": 49,
      "outputs": [
        {
          "output_type": "execute_result",
          "data": {
            "text/plain": [
              "Index(['bathrooms', 'neighbourhood_group_cleansed', 'calendar_updated'], dtype='object')"
            ]
          },
          "metadata": {},
          "execution_count": 49
        }
      ]
    },
    {
      "cell_type": "code",
      "source": [
        "# Drop kolom yang %NaN > 90%\n",
        "listings = listings.drop(columns = nan_col_abv90)\n",
        "\n",
        "listings.head()"
      ],
      "metadata": {
        "colab": {
          "base_uri": "https://localhost:8080/",
          "height": 602
        },
        "id": "MPoQbUBLPgUc",
        "outputId": "93e66b23-f79e-40f4-e5af-2a2e0e7f3ea5"
      },
      "execution_count": 50,
      "outputs": [
        {
          "output_type": "execute_result",
          "data": {
            "text/plain": [
              "      id                         listing_url       scrape_id last_scraped  \\\n",
              "0   2818   https://www.airbnb.com/rooms/2818  20220907151523   2022-09-07   \n",
              "1  20168  https://www.airbnb.com/rooms/20168  20220907151523   2022-09-07   \n",
              "2  27886  https://www.airbnb.com/rooms/27886  20220907151523   2022-09-07   \n",
              "3  28871  https://www.airbnb.com/rooms/28871  20220907151523   2022-09-07   \n",
              "4  29051  https://www.airbnb.com/rooms/29051  20220907151523   2022-09-07   \n",
              "\n",
              "            source                                               name  \\\n",
              "0      city scrape           Quiet Garden View Room & Super Fast WiFi   \n",
              "1  previous scrape       Studio with private bathroom in the centre 1   \n",
              "2      city scrape  Romantic, stylish B&B houseboat in canal district   \n",
              "3      city scrape                            Comfortable double room   \n",
              "4      city scrape                            Comfortable single room   \n",
              "\n",
              "                                         description  \\\n",
              "0  Quiet Garden View Room & Super Fast WiFi<br />...   \n",
              "1  17th century Dutch townhouse in the heart of t...   \n",
              "2  Stylish and romantic houseboat on fantastic hi...   \n",
              "3  <b>The space</b><br />In a monumental house ri...   \n",
              "4  This room can also accomodate 2 people.  For a...   \n",
              "\n",
              "                               neighborhood_overview  \\\n",
              "0  Indische Buurt (\"Indies Neighborhood\") is a ne...   \n",
              "1  Located just in between famous central canals....   \n",
              "2         Central, quiet, safe, clean and beautiful.   \n",
              "3       Flower market , Leidseplein , Rembrantsplein   \n",
              "4  the street is quite lively especially on weeke...   \n",
              "\n",
              "                                         picture_url  host_id  ...  \\\n",
              "0  https://a0.muscache.com/pictures/10272854/8dcc...     3159  ...   \n",
              "1  https://a0.muscache.com/pictures/69979628/fd6a...    59484  ...   \n",
              "2  https://a0.muscache.com/pictures/02c2da9d-660e...    97647  ...   \n",
              "3  https://a0.muscache.com/pictures/160889/362340...   124245  ...   \n",
              "4  https://a0.muscache.com/pictures/162009/bd6be2...   124245  ...   \n",
              "\n",
              "  review_scores_communication review_scores_location review_scores_value  \\\n",
              "0                        4.98                   4.69                4.82   \n",
              "1                        4.62                   4.87                4.49   \n",
              "2                        4.92                   4.89                4.79   \n",
              "3                        4.94                   4.96                4.83   \n",
              "4                        4.92                   4.87                4.77   \n",
              "\n",
              "                    license instant_bookable calculated_host_listings_count  \\\n",
              "0  0363 5F3A 5684 6750 D14D                t                              1   \n",
              "1  0363 CBB3 2C10 0C2A 1E29                t                              2   \n",
              "2  0363 974D 4986 7411 88D8                t                              1   \n",
              "3  0363 607B EA74 0BD8 2F6F                f                              2   \n",
              "4  0363 607B EA74 0BD8 2F6F                f                              2   \n",
              "\n",
              "  calculated_host_listings_count_entire_homes  \\\n",
              "0                                           0   \n",
              "1                                           0   \n",
              "2                                           0   \n",
              "3                                           0   \n",
              "4                                           0   \n",
              "\n",
              "  calculated_host_listings_count_private_rooms  \\\n",
              "0                                            1   \n",
              "1                                            2   \n",
              "2                                            1   \n",
              "3                                            2   \n",
              "4                                            2   \n",
              "\n",
              "  calculated_host_listings_count_shared_rooms reviews_per_month  \n",
              "0                                           0              1.86  \n",
              "1                                           0              2.22  \n",
              "2                                           0              1.78  \n",
              "3                                           0              2.92  \n",
              "4                                           0              4.16  \n",
              "\n",
              "[5 rows x 72 columns]"
            ],
            "text/html": [
              "\n",
              "  <div id=\"df-a2f6ee3c-6103-4f28-8c78-838bb7a05403\" class=\"colab-df-container\">\n",
              "    <div>\n",
              "<style scoped>\n",
              "    .dataframe tbody tr th:only-of-type {\n",
              "        vertical-align: middle;\n",
              "    }\n",
              "\n",
              "    .dataframe tbody tr th {\n",
              "        vertical-align: top;\n",
              "    }\n",
              "\n",
              "    .dataframe thead th {\n",
              "        text-align: right;\n",
              "    }\n",
              "</style>\n",
              "<table border=\"1\" class=\"dataframe\">\n",
              "  <thead>\n",
              "    <tr style=\"text-align: right;\">\n",
              "      <th></th>\n",
              "      <th>id</th>\n",
              "      <th>listing_url</th>\n",
              "      <th>scrape_id</th>\n",
              "      <th>last_scraped</th>\n",
              "      <th>source</th>\n",
              "      <th>name</th>\n",
              "      <th>description</th>\n",
              "      <th>neighborhood_overview</th>\n",
              "      <th>picture_url</th>\n",
              "      <th>host_id</th>\n",
              "      <th>...</th>\n",
              "      <th>review_scores_communication</th>\n",
              "      <th>review_scores_location</th>\n",
              "      <th>review_scores_value</th>\n",
              "      <th>license</th>\n",
              "      <th>instant_bookable</th>\n",
              "      <th>calculated_host_listings_count</th>\n",
              "      <th>calculated_host_listings_count_entire_homes</th>\n",
              "      <th>calculated_host_listings_count_private_rooms</th>\n",
              "      <th>calculated_host_listings_count_shared_rooms</th>\n",
              "      <th>reviews_per_month</th>\n",
              "    </tr>\n",
              "  </thead>\n",
              "  <tbody>\n",
              "    <tr>\n",
              "      <th>0</th>\n",
              "      <td>2818</td>\n",
              "      <td>https://www.airbnb.com/rooms/2818</td>\n",
              "      <td>20220907151523</td>\n",
              "      <td>2022-09-07</td>\n",
              "      <td>city scrape</td>\n",
              "      <td>Quiet Garden View Room &amp; Super Fast WiFi</td>\n",
              "      <td>Quiet Garden View Room &amp; Super Fast WiFi&lt;br /&gt;...</td>\n",
              "      <td>Indische Buurt (\"Indies Neighborhood\") is a ne...</td>\n",
              "      <td>https://a0.muscache.com/pictures/10272854/8dcc...</td>\n",
              "      <td>3159</td>\n",
              "      <td>...</td>\n",
              "      <td>4.98</td>\n",
              "      <td>4.69</td>\n",
              "      <td>4.82</td>\n",
              "      <td>0363 5F3A 5684 6750 D14D</td>\n",
              "      <td>t</td>\n",
              "      <td>1</td>\n",
              "      <td>0</td>\n",
              "      <td>1</td>\n",
              "      <td>0</td>\n",
              "      <td>1.86</td>\n",
              "    </tr>\n",
              "    <tr>\n",
              "      <th>1</th>\n",
              "      <td>20168</td>\n",
              "      <td>https://www.airbnb.com/rooms/20168</td>\n",
              "      <td>20220907151523</td>\n",
              "      <td>2022-09-07</td>\n",
              "      <td>previous scrape</td>\n",
              "      <td>Studio with private bathroom in the centre 1</td>\n",
              "      <td>17th century Dutch townhouse in the heart of t...</td>\n",
              "      <td>Located just in between famous central canals....</td>\n",
              "      <td>https://a0.muscache.com/pictures/69979628/fd6a...</td>\n",
              "      <td>59484</td>\n",
              "      <td>...</td>\n",
              "      <td>4.62</td>\n",
              "      <td>4.87</td>\n",
              "      <td>4.49</td>\n",
              "      <td>0363 CBB3 2C10 0C2A 1E29</td>\n",
              "      <td>t</td>\n",
              "      <td>2</td>\n",
              "      <td>0</td>\n",
              "      <td>2</td>\n",
              "      <td>0</td>\n",
              "      <td>2.22</td>\n",
              "    </tr>\n",
              "    <tr>\n",
              "      <th>2</th>\n",
              "      <td>27886</td>\n",
              "      <td>https://www.airbnb.com/rooms/27886</td>\n",
              "      <td>20220907151523</td>\n",
              "      <td>2022-09-07</td>\n",
              "      <td>city scrape</td>\n",
              "      <td>Romantic, stylish B&amp;B houseboat in canal district</td>\n",
              "      <td>Stylish and romantic houseboat on fantastic hi...</td>\n",
              "      <td>Central, quiet, safe, clean and beautiful.</td>\n",
              "      <td>https://a0.muscache.com/pictures/02c2da9d-660e...</td>\n",
              "      <td>97647</td>\n",
              "      <td>...</td>\n",
              "      <td>4.92</td>\n",
              "      <td>4.89</td>\n",
              "      <td>4.79</td>\n",
              "      <td>0363 974D 4986 7411 88D8</td>\n",
              "      <td>t</td>\n",
              "      <td>1</td>\n",
              "      <td>0</td>\n",
              "      <td>1</td>\n",
              "      <td>0</td>\n",
              "      <td>1.78</td>\n",
              "    </tr>\n",
              "    <tr>\n",
              "      <th>3</th>\n",
              "      <td>28871</td>\n",
              "      <td>https://www.airbnb.com/rooms/28871</td>\n",
              "      <td>20220907151523</td>\n",
              "      <td>2022-09-07</td>\n",
              "      <td>city scrape</td>\n",
              "      <td>Comfortable double room</td>\n",
              "      <td>&lt;b&gt;The space&lt;/b&gt;&lt;br /&gt;In a monumental house ri...</td>\n",
              "      <td>Flower market , Leidseplein , Rembrantsplein</td>\n",
              "      <td>https://a0.muscache.com/pictures/160889/362340...</td>\n",
              "      <td>124245</td>\n",
              "      <td>...</td>\n",
              "      <td>4.94</td>\n",
              "      <td>4.96</td>\n",
              "      <td>4.83</td>\n",
              "      <td>0363 607B EA74 0BD8 2F6F</td>\n",
              "      <td>f</td>\n",
              "      <td>2</td>\n",
              "      <td>0</td>\n",
              "      <td>2</td>\n",
              "      <td>0</td>\n",
              "      <td>2.92</td>\n",
              "    </tr>\n",
              "    <tr>\n",
              "      <th>4</th>\n",
              "      <td>29051</td>\n",
              "      <td>https://www.airbnb.com/rooms/29051</td>\n",
              "      <td>20220907151523</td>\n",
              "      <td>2022-09-07</td>\n",
              "      <td>city scrape</td>\n",
              "      <td>Comfortable single room</td>\n",
              "      <td>This room can also accomodate 2 people.  For a...</td>\n",
              "      <td>the street is quite lively especially on weeke...</td>\n",
              "      <td>https://a0.muscache.com/pictures/162009/bd6be2...</td>\n",
              "      <td>124245</td>\n",
              "      <td>...</td>\n",
              "      <td>4.92</td>\n",
              "      <td>4.87</td>\n",
              "      <td>4.77</td>\n",
              "      <td>0363 607B EA74 0BD8 2F6F</td>\n",
              "      <td>f</td>\n",
              "      <td>2</td>\n",
              "      <td>0</td>\n",
              "      <td>2</td>\n",
              "      <td>0</td>\n",
              "      <td>4.16</td>\n",
              "    </tr>\n",
              "  </tbody>\n",
              "</table>\n",
              "<p>5 rows × 72 columns</p>\n",
              "</div>\n",
              "    <div class=\"colab-df-buttons\">\n",
              "\n",
              "  <div class=\"colab-df-container\">\n",
              "    <button class=\"colab-df-convert\" onclick=\"convertToInteractive('df-a2f6ee3c-6103-4f28-8c78-838bb7a05403')\"\n",
              "            title=\"Convert this dataframe to an interactive table.\"\n",
              "            style=\"display:none;\">\n",
              "\n",
              "  <svg xmlns=\"http://www.w3.org/2000/svg\" height=\"24px\" viewBox=\"0 -960 960 960\">\n",
              "    <path d=\"M120-120v-720h720v720H120Zm60-500h600v-160H180v160Zm220 220h160v-160H400v160Zm0 220h160v-160H400v160ZM180-400h160v-160H180v160Zm440 0h160v-160H620v160ZM180-180h160v-160H180v160Zm440 0h160v-160H620v160Z\"/>\n",
              "  </svg>\n",
              "    </button>\n",
              "\n",
              "  <style>\n",
              "    .colab-df-container {\n",
              "      display:flex;\n",
              "      gap: 12px;\n",
              "    }\n",
              "\n",
              "    .colab-df-convert {\n",
              "      background-color: #E8F0FE;\n",
              "      border: none;\n",
              "      border-radius: 50%;\n",
              "      cursor: pointer;\n",
              "      display: none;\n",
              "      fill: #1967D2;\n",
              "      height: 32px;\n",
              "      padding: 0 0 0 0;\n",
              "      width: 32px;\n",
              "    }\n",
              "\n",
              "    .colab-df-convert:hover {\n",
              "      background-color: #E2EBFA;\n",
              "      box-shadow: 0px 1px 2px rgba(60, 64, 67, 0.3), 0px 1px 3px 1px rgba(60, 64, 67, 0.15);\n",
              "      fill: #174EA6;\n",
              "    }\n",
              "\n",
              "    .colab-df-buttons div {\n",
              "      margin-bottom: 4px;\n",
              "    }\n",
              "\n",
              "    [theme=dark] .colab-df-convert {\n",
              "      background-color: #3B4455;\n",
              "      fill: #D2E3FC;\n",
              "    }\n",
              "\n",
              "    [theme=dark] .colab-df-convert:hover {\n",
              "      background-color: #434B5C;\n",
              "      box-shadow: 0px 1px 3px 1px rgba(0, 0, 0, 0.15);\n",
              "      filter: drop-shadow(0px 1px 2px rgba(0, 0, 0, 0.3));\n",
              "      fill: #FFFFFF;\n",
              "    }\n",
              "  </style>\n",
              "\n",
              "    <script>\n",
              "      const buttonEl =\n",
              "        document.querySelector('#df-a2f6ee3c-6103-4f28-8c78-838bb7a05403 button.colab-df-convert');\n",
              "      buttonEl.style.display =\n",
              "        google.colab.kernel.accessAllowed ? 'block' : 'none';\n",
              "\n",
              "      async function convertToInteractive(key) {\n",
              "        const element = document.querySelector('#df-a2f6ee3c-6103-4f28-8c78-838bb7a05403');\n",
              "        const dataTable =\n",
              "          await google.colab.kernel.invokeFunction('convertToInteractive',\n",
              "                                                    [key], {});\n",
              "        if (!dataTable) return;\n",
              "\n",
              "        const docLinkHtml = 'Like what you see? Visit the ' +\n",
              "          '<a target=\"_blank\" href=https://colab.research.google.com/notebooks/data_table.ipynb>data table notebook</a>'\n",
              "          + ' to learn more about interactive tables.';\n",
              "        element.innerHTML = '';\n",
              "        dataTable['output_type'] = 'display_data';\n",
              "        await google.colab.output.renderOutput(dataTable, element);\n",
              "        const docLink = document.createElement('div');\n",
              "        docLink.innerHTML = docLinkHtml;\n",
              "        element.appendChild(docLink);\n",
              "      }\n",
              "    </script>\n",
              "  </div>\n",
              "\n",
              "\n",
              "<div id=\"df-561a36b8-e23f-4960-9058-b1fe11abf44b\">\n",
              "  <button class=\"colab-df-quickchart\" onclick=\"quickchart('df-561a36b8-e23f-4960-9058-b1fe11abf44b')\"\n",
              "            title=\"Suggest charts\"\n",
              "            style=\"display:none;\">\n",
              "\n",
              "<svg xmlns=\"http://www.w3.org/2000/svg\" height=\"24px\"viewBox=\"0 0 24 24\"\n",
              "     width=\"24px\">\n",
              "    <g>\n",
              "        <path d=\"M19 3H5c-1.1 0-2 .9-2 2v14c0 1.1.9 2 2 2h14c1.1 0 2-.9 2-2V5c0-1.1-.9-2-2-2zM9 17H7v-7h2v7zm4 0h-2V7h2v10zm4 0h-2v-4h2v4z\"/>\n",
              "    </g>\n",
              "</svg>\n",
              "  </button>\n",
              "\n",
              "<style>\n",
              "  .colab-df-quickchart {\n",
              "      --bg-color: #E8F0FE;\n",
              "      --fill-color: #1967D2;\n",
              "      --hover-bg-color: #E2EBFA;\n",
              "      --hover-fill-color: #174EA6;\n",
              "      --disabled-fill-color: #AAA;\n",
              "      --disabled-bg-color: #DDD;\n",
              "  }\n",
              "\n",
              "  [theme=dark] .colab-df-quickchart {\n",
              "      --bg-color: #3B4455;\n",
              "      --fill-color: #D2E3FC;\n",
              "      --hover-bg-color: #434B5C;\n",
              "      --hover-fill-color: #FFFFFF;\n",
              "      --disabled-bg-color: #3B4455;\n",
              "      --disabled-fill-color: #666;\n",
              "  }\n",
              "\n",
              "  .colab-df-quickchart {\n",
              "    background-color: var(--bg-color);\n",
              "    border: none;\n",
              "    border-radius: 50%;\n",
              "    cursor: pointer;\n",
              "    display: none;\n",
              "    fill: var(--fill-color);\n",
              "    height: 32px;\n",
              "    padding: 0;\n",
              "    width: 32px;\n",
              "  }\n",
              "\n",
              "  .colab-df-quickchart:hover {\n",
              "    background-color: var(--hover-bg-color);\n",
              "    box-shadow: 0 1px 2px rgba(60, 64, 67, 0.3), 0 1px 3px 1px rgba(60, 64, 67, 0.15);\n",
              "    fill: var(--button-hover-fill-color);\n",
              "  }\n",
              "\n",
              "  .colab-df-quickchart-complete:disabled,\n",
              "  .colab-df-quickchart-complete:disabled:hover {\n",
              "    background-color: var(--disabled-bg-color);\n",
              "    fill: var(--disabled-fill-color);\n",
              "    box-shadow: none;\n",
              "  }\n",
              "\n",
              "  .colab-df-spinner {\n",
              "    border: 2px solid var(--fill-color);\n",
              "    border-color: transparent;\n",
              "    border-bottom-color: var(--fill-color);\n",
              "    animation:\n",
              "      spin 1s steps(1) infinite;\n",
              "  }\n",
              "\n",
              "  @keyframes spin {\n",
              "    0% {\n",
              "      border-color: transparent;\n",
              "      border-bottom-color: var(--fill-color);\n",
              "      border-left-color: var(--fill-color);\n",
              "    }\n",
              "    20% {\n",
              "      border-color: transparent;\n",
              "      border-left-color: var(--fill-color);\n",
              "      border-top-color: var(--fill-color);\n",
              "    }\n",
              "    30% {\n",
              "      border-color: transparent;\n",
              "      border-left-color: var(--fill-color);\n",
              "      border-top-color: var(--fill-color);\n",
              "      border-right-color: var(--fill-color);\n",
              "    }\n",
              "    40% {\n",
              "      border-color: transparent;\n",
              "      border-right-color: var(--fill-color);\n",
              "      border-top-color: var(--fill-color);\n",
              "    }\n",
              "    60% {\n",
              "      border-color: transparent;\n",
              "      border-right-color: var(--fill-color);\n",
              "    }\n",
              "    80% {\n",
              "      border-color: transparent;\n",
              "      border-right-color: var(--fill-color);\n",
              "      border-bottom-color: var(--fill-color);\n",
              "    }\n",
              "    90% {\n",
              "      border-color: transparent;\n",
              "      border-bottom-color: var(--fill-color);\n",
              "    }\n",
              "  }\n",
              "</style>\n",
              "\n",
              "  <script>\n",
              "    async function quickchart(key) {\n",
              "      const quickchartButtonEl =\n",
              "        document.querySelector('#' + key + ' button');\n",
              "      quickchartButtonEl.disabled = true;  // To prevent multiple clicks.\n",
              "      quickchartButtonEl.classList.add('colab-df-spinner');\n",
              "      try {\n",
              "        const charts = await google.colab.kernel.invokeFunction(\n",
              "            'suggestCharts', [key], {});\n",
              "      } catch (error) {\n",
              "        console.error('Error during call to suggestCharts:', error);\n",
              "      }\n",
              "      quickchartButtonEl.classList.remove('colab-df-spinner');\n",
              "      quickchartButtonEl.classList.add('colab-df-quickchart-complete');\n",
              "    }\n",
              "    (() => {\n",
              "      let quickchartButtonEl =\n",
              "        document.querySelector('#df-561a36b8-e23f-4960-9058-b1fe11abf44b button');\n",
              "      quickchartButtonEl.style.display =\n",
              "        google.colab.kernel.accessAllowed ? 'block' : 'none';\n",
              "    })();\n",
              "  </script>\n",
              "</div>\n",
              "    </div>\n",
              "  </div>\n"
            ],
            "application/vnd.google.colaboratory.intrinsic+json": {
              "type": "dataframe",
              "variable_name": "listings"
            }
          },
          "metadata": {},
          "execution_count": 50
        }
      ]
    },
    {
      "cell_type": "markdown",
      "source": [
        "## **2. Identify and Handling Inkonsistent Format**\n"
      ],
      "metadata": {
        "id": "8S3B6bE_PtwJ"
      }
    },
    {
      "cell_type": "markdown",
      "source": [
        "- Salah satu inkonsistensi yang bisa terjadi adalah, tipe data yang tidak sesuai dengan representasi datanya.\n",
        "- Pada kasus ini kita akan mengidentifikasi inkonsistensi ini pada kolom price."
      ],
      "metadata": {
        "id": "jltpvn0oPwQP"
      }
    },
    {
      "cell_type": "code",
      "source": [
        "# Menampilkan informasi pada kolom price\n",
        "listings[['price']].info()"
      ],
      "metadata": {
        "colab": {
          "base_uri": "https://localhost:8080/"
        },
        "id": "vhetqiGtPrCF",
        "outputId": "d88730a3-ee5b-4d1e-f835-92f7952d9e1f"
      },
      "execution_count": 51,
      "outputs": [
        {
          "output_type": "stream",
          "name": "stdout",
          "text": [
            "<class 'pandas.core.frame.DataFrame'>\n",
            "RangeIndex: 6893 entries, 0 to 6892\n",
            "Data columns (total 1 columns):\n",
            " #   Column  Non-Null Count  Dtype \n",
            "---  ------  --------------  ----- \n",
            " 0   price   6893 non-null   object\n",
            "dtypes: object(1)\n",
            "memory usage: 54.0+ KB\n"
          ]
        }
      ]
    },
    {
      "cell_type": "code",
      "source": [
        "# Menampilkan 5 data teratas kolom price\n",
        "listings['price'].head()"
      ],
      "metadata": {
        "colab": {
          "base_uri": "https://localhost:8080/"
        },
        "id": "bHVwh7GBP7lB",
        "outputId": "7facb4f8-626e-4823-a6cc-5cdaa59091a2"
      },
      "execution_count": 54,
      "outputs": [
        {
          "output_type": "execute_result",
          "data": {
            "text/plain": [
              "0     $49.00\n",
              "1    $106.00\n",
              "2    $136.00\n",
              "3     $75.00\n",
              "4     $55.00\n",
              "Name: price, dtype: object"
            ]
          },
          "metadata": {},
          "execution_count": 54
        }
      ]
    },
    {
      "cell_type": "markdown",
      "source": [
        "Dari pengecekan diatas, terlihat\n",
        "- kolom price yang seharusnya direpresentasikan sebagai kolom numeric, memiliki tipe data object.\n",
        "- Kita akan mengconvert kolom price tersebut sehingga bertipe float.\n",
        "- Pertama, kita akan mengidentifikasi data unik pada kolom price."
      ],
      "metadata": {
        "id": "pbFfKSESQQU4"
      }
    },
    {
      "cell_type": "code",
      "source": [
        "# Data unik pada kolom price\n",
        "listings['price'].unique()"
      ],
      "metadata": {
        "colab": {
          "base_uri": "https://localhost:8080/"
        },
        "id": "30v87xH_QKH7",
        "outputId": "bdd50418-e8aa-425c-e8ec-5baeb4642b83"
      },
      "execution_count": 55,
      "outputs": [
        {
          "output_type": "execute_result",
          "data": {
            "text/plain": [
              "array(['$49.00', '$106.00', '$136.00', '$75.00', '$55.00', '$240.00',\n",
              "       '$245.00', '$124.00', '$250.00', '$149.00', '$120.00', '$82.00',\n",
              "       '$119.00', '$165.00', '$65.00', '$115.00', '$265.00', '$200.00',\n",
              "       '$175.00', '$88.00', '$195.00', '$305.00', '$118.00', '$300.00',\n",
              "       '$551.00', '$122.00', '$350.00', '$296.00', '$318.00', '$1,236.00',\n",
              "       '$130.00', '$171.00', '$161.00', '$105.00', '$151.00', '$911.00',\n",
              "       '$125.00', '$95.00', '$225.00', '$239.00', '$220.00', '$99.00',\n",
              "       '$395.00', '$255.00', '$199.00', '$178.00', '$399.00', '$139.00',\n",
              "       '$110.00', '$152.00', '$126.00', '$129.00', '$150.00', '$80.00',\n",
              "       '$275.00', '$176.00', '$100.00', '$160.00', '$475.00', '$154.00',\n",
              "       '$600.00', '$159.00', '$440.00', '$180.00', '$140.00', '$108.00',\n",
              "       '$163.00', '$170.00', '$360.00', '$380.00', '$177.00', '$87.00',\n",
              "       '$450.00', '$128.00', '$109.00', '$113.00', '$189.00', '$146.00',\n",
              "       '$571.00', '$81.00', '$73.00', '$188.00', '$112.00', '$96.00',\n",
              "       '$79.00', '$303.00', '$290.00', '$135.00', '$85.00', '$168.00',\n",
              "       '$495.00', '$664.00', '$111.00', '$60.00', '$325.00', '$59.00',\n",
              "       '$214.00', '$69.00', '$266.00', '$181.00', '$134.00', '$420.00',\n",
              "       '$193.00', '$167.00', '$800.00', '$340.00', '$147.00', '$157.00',\n",
              "       '$359.00', '$184.00', '$137.00', '$144.00', '$121.00', '$210.00',\n",
              "       '$142.00', '$229.00', '$514.00', '$98.00', '$72.00', '$78.00',\n",
              "       '$355.00', '$31.00', '$145.00', '$190.00', '$153.00', '$289.00',\n",
              "       '$107.00', '$141.00', '$295.00', '$986.00', '$143.00', '$595.00',\n",
              "       '$291.00', '$392.00', '$166.00', '$208.00', '$41.00', '$287.00',\n",
              "       '$500.00', '$102.00', '$89.00', '$285.00', '$90.00', '$363.00',\n",
              "       '$550.00', '$233.00', '$485.00', '$299.00', '$138.00', '$280.00',\n",
              "       '$264.00', '$64.00', '$187.00', '$77.00', '$74.00', '$186.00',\n",
              "       '$50.00', '$155.00', '$228.00', '$342.00', '$343.00', '$83.00',\n",
              "       '$103.00', '$455.00', '$45.00', '$314.00', '$66.00', '$51.00',\n",
              "       '$397.00', '$123.00', '$117.00', '$114.00', '$543.00', '$259.00',\n",
              "       '$400.00', '$368.00', '$375.00', '$101.00', '$372.00', '$61.00',\n",
              "       '$650.00', '$196.00', '$382.00', '$482.00', '$230.00', '$185.00',\n",
              "       '$271.00', '$249.00', '$206.00', '$466.00', '$92.00', '$179.00',\n",
              "       '$231.00', '$329.00', '$224.00', '$279.00', '$169.00', '$386.00',\n",
              "       '$158.00', '$94.00', '$174.00', '$204.00', '$213.00', '$234.00',\n",
              "       '$156.00', '$116.00', '$467.00', '$316.00', '$46.00', '$133.00',\n",
              "       '$260.00', '$235.00', '$93.00', '$131.00', '$232.00', '$516.00',\n",
              "       '$267.00', '$164.00', '$345.00', '$795.00', '$62.00', '$97.00',\n",
              "       '$191.00', '$449.00', '$71.00', '$379.00', '$850.00', '$68.00',\n",
              "       '$525.00', '$488.00', '$222.00', '$410.00', '$192.00', '$339.00',\n",
              "       '$254.00', '$256.00', '$414.00', '$425.00', '$211.00', '$371.00',\n",
              "       '$714.00', '$227.00', '$91.00', '$132.00', '$421.00', '$771.00',\n",
              "       '$198.00', '$257.00', '$326.00', '$268.00', '$76.00', '$575.00',\n",
              "       '$505.00', '$320.00', '$857.00', '$40.00', '$499.00', '$84.00',\n",
              "       '$607.00', '$104.00', '$281.00', '$57.00', '$565.00', '$336.00',\n",
              "       '$203.00', '$148.00', '$48.00', '$282.00', '$70.00', '$269.00',\n",
              "       '$629.00', '$221.00', '$286.00', '$307.00', '$217.00', '$237.00',\n",
              "       '$743.00', '$201.00', '$182.00', '$509.00', '$215.00', '$238.00',\n",
              "       '$418.00', '$349.00', '$207.00', '$356.00', '$53.00', '$695.00',\n",
              "       '$52.00', '$548.00', '$407.00', '$707.00', '$357.00', '$643.00',\n",
              "       '$247.00', '$205.00', '$515.00', '$248.00', '$448.00', '$469.00',\n",
              "       '$353.00', '$6,603.00', '$127.00', '$226.00', '$243.00', '$236.00',\n",
              "       '$270.00', '$263.00', '$197.00', '$366.00', '$383.00', '$710.00',\n",
              "       '$460.00', '$470.00', '$529.00', '$534.00', '$219.00', '$403.00',\n",
              "       '$365.00', '$39.00', '$261.00', '$805.00', '$209.00', '$346.00',\n",
              "       '$535.00', '$194.00', '$419.00', '$700.00', '$405.00', '$35.00',\n",
              "       '$323.00', '$1,160.00', '$67.00', '$173.00', '$319.00', '$377.00',\n",
              "       '$216.00', '$43.00', '$162.00', '$327.00', '$364.00', '$332.00',\n",
              "       '$378.00', '$1,490.00', '$439.00', '$218.00', '$387.00', '$86.00',\n",
              "       '$496.00', '$183.00', '$42.00', '$358.00', '$693.00', '$172.00',\n",
              "       '$277.00', '$309.00', '$615.00', '$999.00', '$310.00', '$298.00',\n",
              "       '$370.00', '$276.00', '$262.00', '$492.00', '$406.00', '$390.00',\n",
              "       '$388.00', '$542.00', '$393.00', '$361.00', '$354.00', '$335.00',\n",
              "       '$330.00', '$244.00', '$385.00', '$675.00', '$321.00', '$347.00',\n",
              "       '$352.00', '$2,000.00', '$590.00', '$246.00', '$272.00', '$241.00',\n",
              "       '$251.00', '$574.00', '$632.00', '$308.00', '$284.00', '$338.00',\n",
              "       '$1,003.00', '$511.00', '$888.00', '$252.00', '$58.00', '$540.00',\n",
              "       '$315.00', '$202.00', '$657.00', '$814.00', '$465.00', '$294.00',\n",
              "       '$242.00', '$56.00', '$456.00', '$461.00', '$63.00', '$413.00',\n",
              "       '$445.00', '$950.00', '$810.00', '$313.00', '$429.00', '$44.00',\n",
              "       '$895.00', '$362.00', '$47.00', '$471.00', '$311.00', '$1,657.00',\n",
              "       '$312.00', '$417.00', '$533.00', '$430.00', '$1,350.00',\n",
              "       '$1,000.00', '$283.00', '$446.00', '$507.00', '$394.00', '$337.00',\n",
              "       '$544.00', '$297.00', '$273.00', '$334.00', '$381.00', '$412.00',\n",
              "       '$497.00', '$523.00', '$598.00', '$577.00', '$877.00', '$604.00',\n",
              "       '$518.00', '$292.00', '$490.00', '$223.00', '$416.00', '$435.00',\n",
              "       '$614.00', '$1,078.00', '$328.00', '$570.00', '$599.00', '$253.00',\n",
              "       '$373.00', '$481.00', '$750.00', '$468.00', '$351.00', '$404.00',\n",
              "       '$521.00', '$443.00', '$333.00', '$54.00', '$928.00', '$348.00',\n",
              "       '$293.00', '$436.00', '$680.00', '$7,900.00', '$409.00', '$478.00',\n",
              "       '$890.00', '$613.00', '$341.00', '$1,600.00', '$834.00', '$391.00',\n",
              "       '$396.00', '$671.00', '$422.00', '$306.00', '$0.00', '$581.00',\n",
              "       '$711.00', '$904.00', '$1,200.00', '$278.00', '$427.00', '$288.00',\n",
              "       '$811.00', '$389.00', '$522.00', '$317.00', '$322.00', '$274.00',\n",
              "       '$402.00', '$539.00', '$508.00', '$434.00', '$464.00', '$669.00',\n",
              "       '$638.00', '$367.00', '$453.00', '$426.00', '$442.00', '$302.00',\n",
              "       '$732.00', '$304.00', '$645.00', '$900.00', '$703.00', '$531.00',\n",
              "       '$212.00', '$428.00', '$1,023.00', '$1,045.00', '$985.00',\n",
              "       '$480.00', '$1,399.00', '$324.00', '$555.00', '$780.00', '$484.00',\n",
              "       '$1,500.00', '$559.00', '$454.00', '$665.00', '$728.00', '$610.00',\n",
              "       '$609.00', '$659.00', '$871.00', '$611.00', '$596.00', '$2,350.00',\n",
              "       '$764.00', '$628.00', '$608.00', '$844.00', '$649.00', '$374.00',\n",
              "       '$1,037.00', '$1,520.00', '$1,484.00', '$384.00', '$25.00',\n",
              "       '$549.00', '$474.00', '$672.00', '$625.00', '$718.00', '$301.00',\n",
              "       '$583.00', '$369.00', '$479.00', '$619.00', '$424.00', '$582.00',\n",
              "       '$258.00', '$486.00', '$679.00', '$520.00', '$2,820.00', '$789.00',\n",
              "       '$1,100.00', '$541.00', '$463.00', '$545.00', '$580.00', '$398.00',\n",
              "       '$588.00', '$401.00', '$655.00', '$1,107.00', '$736.00', '$807.00',\n",
              "       '$1,343.00', '$510.00', '$457.00', '$560.00', '$630.00', '$786.00',\n",
              "       '$36.00', '$15.00', '$441.00', '$530.00', '$585.00'], dtype=object)"
            ]
          },
          "metadata": {},
          "execution_count": 55
        }
      ]
    },
    {
      "cell_type": "markdown",
      "source": [
        "Summary:\n",
        "\n",
        "- Semua data price memiliki tanda `$`\n",
        "- Untuk price yang mencapai ribuan, digunakan tanda `,` (koma).\n",
        "\n",
        "Sebelum mengconvert data tersebut menjadi float, kita akan menghilangkan tanda `$` dan `,` dari data price."
      ],
      "metadata": {
        "id": "batkCLdyQbGq"
      }
    },
    {
      "cell_type": "code",
      "source": [
        "# Menghilangkan tanda $\n",
        "listings[\"price\"] = listings[\"price\"].str.replace(\"$\", \"\")\n",
        "\n",
        "# Menghilangkan tanda , (koma)\n",
        "listings[\"price\"] = listings[\"price\"].str.replace(\",\", \"\")\n",
        "\n",
        "# Terakhir, Convert tipe data menjadi float\n",
        "listings[\"price\"] = listings[\"price\"].astype(float)"
      ],
      "metadata": {
        "id": "PTyuf3CHQU6T"
      },
      "execution_count": 56,
      "outputs": []
    },
    {
      "cell_type": "markdown",
      "source": [
        "Validasi"
      ],
      "metadata": {
        "id": "uodPNThMQd-c"
      }
    },
    {
      "cell_type": "code",
      "source": [
        "# Menampiklan informasi pada kolom price\n",
        "listings[['price']].info()"
      ],
      "metadata": {
        "colab": {
          "base_uri": "https://localhost:8080/"
        },
        "id": "ccRe3TEZQclw",
        "outputId": "762ceac9-b3ca-46b9-be8c-c0ec66303c66"
      },
      "execution_count": 57,
      "outputs": [
        {
          "output_type": "stream",
          "name": "stdout",
          "text": [
            "<class 'pandas.core.frame.DataFrame'>\n",
            "RangeIndex: 6893 entries, 0 to 6892\n",
            "Data columns (total 1 columns):\n",
            " #   Column  Non-Null Count  Dtype  \n",
            "---  ------  --------------  -----  \n",
            " 0   price   6893 non-null   float64\n",
            "dtypes: float64(1)\n",
            "memory usage: 54.0 KB\n"
          ]
        }
      ]
    },
    {
      "cell_type": "markdown",
      "source": [
        "Sudah berubah menjadi `float`"
      ],
      "metadata": {
        "id": "-yeM46XJQjYH"
      }
    },
    {
      "cell_type": "code",
      "source": [
        "# Data unik pada kolom price\n",
        "listings[\"price\"].unique()"
      ],
      "metadata": {
        "colab": {
          "base_uri": "https://localhost:8080/"
        },
        "id": "BXJGOLqVQhfg",
        "outputId": "04c82de8-3c41-4947-9a0d-d5d21f934262"
      },
      "execution_count": 58,
      "outputs": [
        {
          "output_type": "execute_result",
          "data": {
            "text/plain": [
              "array([  49.,  106.,  136.,   75.,   55.,  240.,  245.,  124.,  250.,\n",
              "        149.,  120.,   82.,  119.,  165.,   65.,  115.,  265.,  200.,\n",
              "        175.,   88.,  195.,  305.,  118.,  300.,  551.,  122.,  350.,\n",
              "        296.,  318., 1236.,  130.,  171.,  161.,  105.,  151.,  911.,\n",
              "        125.,   95.,  225.,  239.,  220.,   99.,  395.,  255.,  199.,\n",
              "        178.,  399.,  139.,  110.,  152.,  126.,  129.,  150.,   80.,\n",
              "        275.,  176.,  100.,  160.,  475.,  154.,  600.,  159.,  440.,\n",
              "        180.,  140.,  108.,  163.,  170.,  360.,  380.,  177.,   87.,\n",
              "        450.,  128.,  109.,  113.,  189.,  146.,  571.,   81.,   73.,\n",
              "        188.,  112.,   96.,   79.,  303.,  290.,  135.,   85.,  168.,\n",
              "        495.,  664.,  111.,   60.,  325.,   59.,  214.,   69.,  266.,\n",
              "        181.,  134.,  420.,  193.,  167.,  800.,  340.,  147.,  157.,\n",
              "        359.,  184.,  137.,  144.,  121.,  210.,  142.,  229.,  514.,\n",
              "         98.,   72.,   78.,  355.,   31.,  145.,  190.,  153.,  289.,\n",
              "        107.,  141.,  295.,  986.,  143.,  595.,  291.,  392.,  166.,\n",
              "        208.,   41.,  287.,  500.,  102.,   89.,  285.,   90.,  363.,\n",
              "        550.,  233.,  485.,  299.,  138.,  280.,  264.,   64.,  187.,\n",
              "         77.,   74.,  186.,   50.,  155.,  228.,  342.,  343.,   83.,\n",
              "        103.,  455.,   45.,  314.,   66.,   51.,  397.,  123.,  117.,\n",
              "        114.,  543.,  259.,  400.,  368.,  375.,  101.,  372.,   61.,\n",
              "        650.,  196.,  382.,  482.,  230.,  185.,  271.,  249.,  206.,\n",
              "        466.,   92.,  179.,  231.,  329.,  224.,  279.,  169.,  386.,\n",
              "        158.,   94.,  174.,  204.,  213.,  234.,  156.,  116.,  467.,\n",
              "        316.,   46.,  133.,  260.,  235.,   93.,  131.,  232.,  516.,\n",
              "        267.,  164.,  345.,  795.,   62.,   97.,  191.,  449.,   71.,\n",
              "        379.,  850.,   68.,  525.,  488.,  222.,  410.,  192.,  339.,\n",
              "        254.,  256.,  414.,  425.,  211.,  371.,  714.,  227.,   91.,\n",
              "        132.,  421.,  771.,  198.,  257.,  326.,  268.,   76.,  575.,\n",
              "        505.,  320.,  857.,   40.,  499.,   84.,  607.,  104.,  281.,\n",
              "         57.,  565.,  336.,  203.,  148.,   48.,  282.,   70.,  269.,\n",
              "        629.,  221.,  286.,  307.,  217.,  237.,  743.,  201.,  182.,\n",
              "        509.,  215.,  238.,  418.,  349.,  207.,  356.,   53.,  695.,\n",
              "         52.,  548.,  407.,  707.,  357.,  643.,  247.,  205.,  515.,\n",
              "        248.,  448.,  469.,  353., 6603.,  127.,  226.,  243.,  236.,\n",
              "        270.,  263.,  197.,  366.,  383.,  710.,  460.,  470.,  529.,\n",
              "        534.,  219.,  403.,  365.,   39.,  261.,  805.,  209.,  346.,\n",
              "        535.,  194.,  419.,  700.,  405.,   35.,  323., 1160.,   67.,\n",
              "        173.,  319.,  377.,  216.,   43.,  162.,  327.,  364.,  332.,\n",
              "        378., 1490.,  439.,  218.,  387.,   86.,  496.,  183.,   42.,\n",
              "        358.,  693.,  172.,  277.,  309.,  615.,  999.,  310.,  298.,\n",
              "        370.,  276.,  262.,  492.,  406.,  390.,  388.,  542.,  393.,\n",
              "        361.,  354.,  335.,  330.,  244.,  385.,  675.,  321.,  347.,\n",
              "        352., 2000.,  590.,  246.,  272.,  241.,  251.,  574.,  632.,\n",
              "        308.,  284.,  338., 1003.,  511.,  888.,  252.,   58.,  540.,\n",
              "        315.,  202.,  657.,  814.,  465.,  294.,  242.,   56.,  456.,\n",
              "        461.,   63.,  413.,  445.,  950.,  810.,  313.,  429.,   44.,\n",
              "        895.,  362.,   47.,  471.,  311., 1657.,  312.,  417.,  533.,\n",
              "        430., 1350., 1000.,  283.,  446.,  507.,  394.,  337.,  544.,\n",
              "        297.,  273.,  334.,  381.,  412.,  497.,  523.,  598.,  577.,\n",
              "        877.,  604.,  518.,  292.,  490.,  223.,  416.,  435.,  614.,\n",
              "       1078.,  328.,  570.,  599.,  253.,  373.,  481.,  750.,  468.,\n",
              "        351.,  404.,  521.,  443.,  333.,   54.,  928.,  348.,  293.,\n",
              "        436.,  680., 7900.,  409.,  478.,  890.,  613.,  341., 1600.,\n",
              "        834.,  391.,  396.,  671.,  422.,  306.,    0.,  581.,  711.,\n",
              "        904., 1200.,  278.,  427.,  288.,  811.,  389.,  522.,  317.,\n",
              "        322.,  274.,  402.,  539.,  508.,  434.,  464.,  669.,  638.,\n",
              "        367.,  453.,  426.,  442.,  302.,  732.,  304.,  645.,  900.,\n",
              "        703.,  531.,  212.,  428., 1023., 1045.,  985.,  480., 1399.,\n",
              "        324.,  555.,  780.,  484., 1500.,  559.,  454.,  665.,  728.,\n",
              "        610.,  609.,  659.,  871.,  611.,  596., 2350.,  764.,  628.,\n",
              "        608.,  844.,  649.,  374., 1037., 1520., 1484.,  384.,   25.,\n",
              "        549.,  474.,  672.,  625.,  718.,  301.,  583.,  369.,  479.,\n",
              "        619.,  424.,  582.,  258.,  486.,  679.,  520., 2820.,  789.,\n",
              "       1100.,  541.,  463.,  545.,  580.,  398.,  588.,  401.,  655.,\n",
              "       1107.,  736.,  807., 1343.,  510.,  457.,  560.,  630.,  786.,\n",
              "         36.,   15.,  441.,  530.,  585.])"
            ]
          },
          "metadata": {},
          "execution_count": 58
        }
      ]
    },
    {
      "cell_type": "markdown",
      "source": [
        "---\n",
        "## **3. Identify and Handling Outlier**"
      ],
      "metadata": {
        "id": "4VII2WnMQp4Z"
      }
    },
    {
      "cell_type": "markdown",
      "source": [
        "- Outlier biasanya terdapat pada kolom bertipe numeric.\n",
        "- Pada kasus kali ini, kita akan mengidentifikasi outlier pada kolom price.\n",
        "- Kita dapat menampilkan sebaran data price menggunakan histogram"
      ],
      "metadata": {
        "id": "pay9PMguQt1D"
      }
    },
    {
      "cell_type": "code",
      "source": [
        "# Buat figure & axes\n",
        "fig, ax = plt.subplots(figsize = (10, 6))\n",
        "\n",
        "# Buat histogram plot price\n",
        "sns.histplot(data = listings,\n",
        "             x = \"price\",\n",
        "             bins = 100,\n",
        "             ax = ax)\n",
        "\n",
        "plt.show()"
      ],
      "metadata": {
        "colab": {
          "base_uri": "https://localhost:8080/",
          "height": 411
        },
        "id": "1jl_FS80QnNe",
        "outputId": "4a65390f-9126-4675-e480-f0ee8cd290ff"
      },
      "execution_count": 59,
      "outputs": [
        {
          "output_type": "display_data",
          "data": {
            "text/plain": [
              "<Figure size 1000x600 with 1 Axes>"
            ],
            "image/png": "[encoded data removed]"
          },
          "metadata": {}
        }
      ]
    },
    {
      "cell_type": "markdown",
      "source": [
        "- Terlihat skala dari x axis mencapai 8000.\n",
        "- Hal ini terjadi karena terdapat data yang nilainya mendekati 8000.\n",
        "- Hal ini bisa di validasi dengan melihat deskripsi statistik dari kolom price"
      ],
      "metadata": {
        "id": "aKqwGj4fQxG5"
      }
    },
    {
      "cell_type": "code",
      "source": [
        "# Deskripsi statistik dari kolom price\n",
        "listings[\"price\"].describe()"
      ],
      "metadata": {
        "colab": {
          "base_uri": "https://localhost:8080/"
        },
        "id": "mQ8ExiTiQvHy",
        "outputId": "54a481aa-1910-46a0-a6f7-2a98d8c9c13d"
      },
      "execution_count": 60,
      "outputs": [
        {
          "output_type": "execute_result",
          "data": {
            "text/plain": [
              "count    6893.000000\n",
              "mean      218.487306\n",
              "std       192.576328\n",
              "min         0.000000\n",
              "25%       125.000000\n",
              "50%       180.000000\n",
              "75%       264.000000\n",
              "max      7900.000000\n",
              "Name: price, dtype: float64"
            ]
          },
          "metadata": {},
          "execution_count": 60
        }
      ]
    },
    {
      "cell_type": "markdown",
      "source": [
        "- Terlihat nilai maksimum dari kolom price berada di angka 7900.\n",
        "- Angka ini sangat jauh dibanding nilai Q3 sebesar 264.\n",
        "- Data di atas Q3 memiliki potensi sebagai outlier\n",
        "- Kita **asumsikan** memang ada outlier"
      ],
      "metadata": {
        "id": "Em98z0YxQ1V0"
      }
    },
    {
      "cell_type": "markdown",
      "source": [
        "Masih ingat gambar ini?\n",
        "\n",
        "<center>\n",
        "<img src=\"https://miro.medium.com/max/720/1*0MPDTLn8KoLApoFvI0P2vQ.webp\">\n",
        "<br>\n",
        "<a href=\"https://medium.com/@agarwal.vishal819/outlier-detection-with-boxplots-1b6757fafa21\">source</a>\n",
        "</center>\n",
        "\n"
      ],
      "metadata": {
        "id": "GU0AyjkXQ3xE"
      }
    },
    {
      "cell_type": "markdown",
      "source": [
        "- Kita akan tentukan suatu data adalah outlier, apabila nilainya lebih besar dari Q3 + 1.5 IQR"
      ],
      "metadata": {
        "id": "7bzuFxBjQ5uK"
      }
    },
    {
      "cell_type": "code",
      "source": [
        "# Car Q1 dan Q3\n",
        "Q1 = listings.price.quantile(0.25)\n",
        "Q3 = listings.price.quantile(0.75)\n",
        "\n",
        "print(f'Q1 : {Q1:.2f}')\n",
        "print(f'Q3 : {Q3:.2f}')"
      ],
      "metadata": {
        "colab": {
          "base_uri": "https://localhost:8080/"
        },
        "id": "cGsAWqLeQz4F",
        "outputId": "4c0a4eac-923b-4f26-9d34-f71831c66caf"
      },
      "execution_count": 63,
      "outputs": [
        {
          "output_type": "stream",
          "name": "stdout",
          "text": [
            "Q1 : 125.00\n",
            "Q3 : 264.00\n"
          ]
        }
      ]
    },
    {
      "cell_type": "code",
      "source": [
        "# Cari IQR & BATAS MAXIMUM\n",
        "IQR = Q3 - Q1\n",
        "max_bound = Q3 + 1.5*IQR\n",
        "\n",
        "print(f\"IQR : {IQR:.2f}\")\n",
        "print(f\"Maximum Boundary : {max_bound:.2f}\")"
      ],
      "metadata": {
        "colab": {
          "base_uri": "https://localhost:8080/"
        },
        "id": "8tVvNB7GRHt4",
        "outputId": "3913e798-677f-4f9f-9442-42c4cd86a915"
      },
      "execution_count": 64,
      "outputs": [
        {
          "output_type": "stream",
          "name": "stdout",
          "text": [
            "IQR : 139.00\n",
            "Maximum Boundary : 472.50\n"
          ]
        }
      ]
    },
    {
      "cell_type": "code",
      "source": [
        "# Filter data tanpa outlier\n",
        "listings = listings[listings[\"price\"] < max_bound]"
      ],
      "metadata": {
        "id": "g_WPPlkcROz3"
      },
      "execution_count": 65,
      "outputs": []
    },
    {
      "cell_type": "code",
      "source": [
        "# Validasi hasil filter\n",
        "listings[\"price\"].describe()"
      ],
      "metadata": {
        "colab": {
          "base_uri": "https://localhost:8080/"
        },
        "id": "_Y6EOemkRRl1",
        "outputId": "9f2dbd8c-f9f2-4b40-bce6-2f3b8e4b04ff"
      },
      "execution_count": 66,
      "outputs": [
        {
          "output_type": "execute_result",
          "data": {
            "text/plain": [
              "count    6543.000000\n",
              "mean      192.239034\n",
              "std        92.366092\n",
              "min         0.000000\n",
              "25%       120.000000\n",
              "50%       175.000000\n",
              "75%       250.000000\n",
              "max       471.000000\n",
              "Name: price, dtype: float64"
            ]
          },
          "metadata": {},
          "execution_count": 66
        }
      ]
    },
    {
      "cell_type": "markdown",
      "source": [
        "- Terlihat Q3 dan nilai maximum sudah tidak berbeda jauh\n",
        "- Outlier telah dihilangkan"
      ],
      "metadata": {
        "id": "ctWHr_ttRVJB"
      }
    },
    {
      "cell_type": "code",
      "source": [
        "# Buat figure & axes\n",
        "fig, ax = plt.subplots(figsize = (10, 6))\n",
        "\n",
        "# Buat histogram plot price\n",
        "sns.histplot(data = listings,\n",
        "             x = \"price\",\n",
        "             bins = 100,\n",
        "             ax = ax)\n",
        "\n",
        "plt.show()"
      ],
      "metadata": {
        "colab": {
          "base_uri": "https://localhost:8080/",
          "height": 415
        },
        "id": "n45S0xqqRTVi",
        "outputId": "db054cdb-4fbc-4826-8245-e68aec1d1ca3"
      },
      "execution_count": 67,
      "outputs": [
        {
          "output_type": "display_data",
          "data": {
            "text/plain": [
              "<Figure size 1000x600 with 1 Axes>"
            ],
            "image/png": "[encoded data removed]"
          },
          "metadata": {}
        }
      ]
    },
    {
      "cell_type": "code",
      "source": [],
      "metadata": {
        "id": "nw8OfOSURch8"
      },
      "execution_count": null,
      "outputs": []
    }
  ]
}